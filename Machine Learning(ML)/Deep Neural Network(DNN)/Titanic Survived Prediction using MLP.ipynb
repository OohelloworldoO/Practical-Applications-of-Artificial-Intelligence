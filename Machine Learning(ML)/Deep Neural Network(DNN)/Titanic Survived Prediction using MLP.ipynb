{
 "cells": [
  {
   "cell_type": "markdown",
   "metadata": {},
   "source": [
    "# Download Datasets"
   ]
  },
  {
   "cell_type": "code",
   "execution_count": 48,
   "metadata": {},
   "outputs": [],
   "source": [
    "import urllib.request\n",
    "import os #用於確認檔案\n",
    "\n",
    "if not os.path.exists('data'):\n",
    "    os.makedirs('data')\n",
    "\n",
    "url = \"https://biostat.app.vumc.org/wiki/pub/Main/DataSets/titanic3.xls\"\n",
    "filepath = \"data/titanic3.xls\"\n",
    "if not os.path.isfile(filepath):\n",
    "    result = urllib.request.urlretrieve(url, filepath)\n",
    "    print('downloaded:', result)"
   ]
  },
  {
   "cell_type": "markdown",
   "metadata": {},
   "source": [
    "# Data preprocessing\n",
    "需要xlrd讀取Excel文件  \n",
    "`pip install xlrd`  \n",
    "使用pandas的read_excel讀取titanic.xls至dataframe\n"
   ]
  },
  {
   "cell_type": "code",
   "execution_count": 49,
   "metadata": {},
   "outputs": [
    {
     "data": {
      "text/html": [
       "<div>\n",
       "<style scoped>\n",
       "    .dataframe tbody tr th:only-of-type {\n",
       "        vertical-align: middle;\n",
       "    }\n",
       "\n",
       "    .dataframe tbody tr th {\n",
       "        vertical-align: top;\n",
       "    }\n",
       "\n",
       "    .dataframe thead th {\n",
       "        text-align: right;\n",
       "    }\n",
       "</style>\n",
       "<table border=\"1\" class=\"dataframe\">\n",
       "  <thead>\n",
       "    <tr style=\"text-align: right;\">\n",
       "      <th></th>\n",
       "      <th>pclass</th>\n",
       "      <th>survived</th>\n",
       "      <th>name</th>\n",
       "      <th>sex</th>\n",
       "      <th>age</th>\n",
       "      <th>sibsp</th>\n",
       "      <th>parch</th>\n",
       "      <th>ticket</th>\n",
       "      <th>fare</th>\n",
       "      <th>cabin</th>\n",
       "      <th>embarked</th>\n",
       "      <th>boat</th>\n",
       "      <th>body</th>\n",
       "      <th>home.dest</th>\n",
       "    </tr>\n",
       "  </thead>\n",
       "  <tbody>\n",
       "    <tr>\n",
       "      <th>0</th>\n",
       "      <td>1</td>\n",
       "      <td>1</td>\n",
       "      <td>Allen, Miss. Elisabeth Walton</td>\n",
       "      <td>female</td>\n",
       "      <td>29.0000</td>\n",
       "      <td>0</td>\n",
       "      <td>0</td>\n",
       "      <td>24160</td>\n",
       "      <td>211.3375</td>\n",
       "      <td>B5</td>\n",
       "      <td>S</td>\n",
       "      <td>2</td>\n",
       "      <td>NaN</td>\n",
       "      <td>St Louis, MO</td>\n",
       "    </tr>\n",
       "    <tr>\n",
       "      <th>1</th>\n",
       "      <td>1</td>\n",
       "      <td>1</td>\n",
       "      <td>Allison, Master. Hudson Trevor</td>\n",
       "      <td>male</td>\n",
       "      <td>0.9167</td>\n",
       "      <td>1</td>\n",
       "      <td>2</td>\n",
       "      <td>113781</td>\n",
       "      <td>151.5500</td>\n",
       "      <td>C22 C26</td>\n",
       "      <td>S</td>\n",
       "      <td>11</td>\n",
       "      <td>NaN</td>\n",
       "      <td>Montreal, PQ / Chesterville, ON</td>\n",
       "    </tr>\n",
       "  </tbody>\n",
       "</table>\n",
       "</div>"
      ],
      "text/plain": [
       "   pclass  survived                            name     sex      age  sibsp  \\\n",
       "0       1         1   Allen, Miss. Elisabeth Walton  female  29.0000      0   \n",
       "1       1         1  Allison, Master. Hudson Trevor    male   0.9167      1   \n",
       "\n",
       "   parch  ticket      fare    cabin embarked boat  body  \\\n",
       "0      0   24160  211.3375       B5        S    2   NaN   \n",
       "1      2  113781  151.5500  C22 C26        S   11   NaN   \n",
       "\n",
       "                         home.dest  \n",
       "0                     St Louis, MO  \n",
       "1  Montreal, PQ / Chesterville, ON  "
      ]
     },
     "execution_count": 49,
     "metadata": {},
     "output_type": "execute_result"
    }
   ],
   "source": [
    "import numpy\n",
    "import pandas as pd\n",
    "all_df = pd.read_excel(filepath)\n",
    "all_df[:2]"
   ]
  },
  {
   "cell_type": "markdown",
   "metadata": {},
   "source": [
    "# Filter datasets"
   ]
  },
  {
   "cell_type": "code",
   "execution_count": 50,
   "metadata": {},
   "outputs": [
    {
     "data": {
      "text/html": [
       "<div>\n",
       "<style scoped>\n",
       "    .dataframe tbody tr th:only-of-type {\n",
       "        vertical-align: middle;\n",
       "    }\n",
       "\n",
       "    .dataframe tbody tr th {\n",
       "        vertical-align: top;\n",
       "    }\n",
       "\n",
       "    .dataframe thead th {\n",
       "        text-align: right;\n",
       "    }\n",
       "</style>\n",
       "<table border=\"1\" class=\"dataframe\">\n",
       "  <thead>\n",
       "    <tr style=\"text-align: right;\">\n",
       "      <th></th>\n",
       "      <th>survived</th>\n",
       "      <th>name</th>\n",
       "      <th>pclass</th>\n",
       "      <th>sex</th>\n",
       "      <th>age</th>\n",
       "      <th>sibsp</th>\n",
       "      <th>parch</th>\n",
       "      <th>fare</th>\n",
       "      <th>embarked</th>\n",
       "    </tr>\n",
       "  </thead>\n",
       "  <tbody>\n",
       "    <tr>\n",
       "      <th>0</th>\n",
       "      <td>1</td>\n",
       "      <td>Allen, Miss. Elisabeth Walton</td>\n",
       "      <td>1</td>\n",
       "      <td>female</td>\n",
       "      <td>29.0000</td>\n",
       "      <td>0</td>\n",
       "      <td>0</td>\n",
       "      <td>211.3375</td>\n",
       "      <td>S</td>\n",
       "    </tr>\n",
       "    <tr>\n",
       "      <th>1</th>\n",
       "      <td>1</td>\n",
       "      <td>Allison, Master. Hudson Trevor</td>\n",
       "      <td>1</td>\n",
       "      <td>male</td>\n",
       "      <td>0.9167</td>\n",
       "      <td>1</td>\n",
       "      <td>2</td>\n",
       "      <td>151.5500</td>\n",
       "      <td>S</td>\n",
       "    </tr>\n",
       "  </tbody>\n",
       "</table>\n",
       "</div>"
      ],
      "text/plain": [
       "   survived                            name  pclass     sex      age  sibsp  \\\n",
       "0         1   Allen, Miss. Elisabeth Walton       1  female  29.0000      0   \n",
       "1         1  Allison, Master. Hudson Trevor       1    male   0.9167      1   \n",
       "\n",
       "   parch      fare embarked  \n",
       "0      0  211.3375        S  \n",
       "1      2  151.5500        S  "
      ]
     },
     "execution_count": 50,
     "metadata": {},
     "output_type": "execute_result"
    }
   ],
   "source": [
    "cols = ['survived', 'name', 'pclass', 'sex', 'age', 'sibsp', 'parch', 'fare', 'embarked']\n",
    "all_df = all_df[cols]\n",
    "all_df[:2]"
   ]
  },
  {
   "cell_type": "markdown",
   "metadata": {},
   "source": [
    "# pandas dataframe:drop function\n",
    "`drop(labels = None, axis = 0, index = None, columns = None, inplace = False)`  \n",
    " - label就是要刪除的行列名稱 用列表給定\n",
    " - axis默認=0 刪除行 因此刪除columns時axis需= 1\n",
    " - columns指定要刪除的column\n",
    " - inplace = False 默認該刪除操作不改變圓數據 而是return一個執行刪除後的新dataframe\n",
    " - inplace = True 則會直接在原數據上做刪除 刪除後無法返回\n",
    "\n",
    "Reference: [Python中pandas dataframe删除一行或一列：drop函数](https://blog.csdn.net/songyunli1111/article/details/79306639)"
   ]
  },
  {
   "cell_type": "code",
   "execution_count": 51,
   "metadata": {},
   "outputs": [],
   "source": [
    "df = all_df.drop(['name'], axis = 1)"
   ]
  },
  {
   "cell_type": "markdown",
   "metadata": {},
   "source": [
    "找出含有null的欄位"
   ]
  },
  {
   "cell_type": "code",
   "execution_count": 52,
   "metadata": {},
   "outputs": [
    {
     "data": {
      "text/plain": [
       "survived      0\n",
       "name          0\n",
       "pclass        0\n",
       "sex           0\n",
       "age         263\n",
       "sibsp         0\n",
       "parch         0\n",
       "fare          1\n",
       "embarked      2\n",
       "dtype: int64"
      ]
     },
     "execution_count": 52,
     "metadata": {},
     "output_type": "execute_result"
    }
   ],
   "source": [
    "all_df.isnull().sum()"
   ]
  },
  {
   "cell_type": "markdown",
   "metadata": {},
   "source": [
    "fillna:使用指定的方法填充NA/NaN值  \n",
    "`df.fillna(0)` 將NA/NaN填充為0  \n",
    "詳細看:[pandas fillna使用](https://blog.csdn.net/conving/article/details/120205513)"
   ]
  },
  {
   "cell_type": "code",
   "execution_count": 53,
   "metadata": {},
   "outputs": [
    {
     "data": {
      "text/html": [
       "<div>\n",
       "<style scoped>\n",
       "    .dataframe tbody tr th:only-of-type {\n",
       "        vertical-align: middle;\n",
       "    }\n",
       "\n",
       "    .dataframe tbody tr th {\n",
       "        vertical-align: top;\n",
       "    }\n",
       "\n",
       "    .dataframe thead th {\n",
       "        text-align: right;\n",
       "    }\n",
       "</style>\n",
       "<table border=\"1\" class=\"dataframe\">\n",
       "  <thead>\n",
       "    <tr style=\"text-align: right;\">\n",
       "      <th></th>\n",
       "      <th>survived</th>\n",
       "      <th>pclass</th>\n",
       "      <th>sex</th>\n",
       "      <th>age</th>\n",
       "      <th>sibsp</th>\n",
       "      <th>parch</th>\n",
       "      <th>fare</th>\n",
       "      <th>embarked_C</th>\n",
       "      <th>embarked_Q</th>\n",
       "      <th>embarked_S</th>\n",
       "    </tr>\n",
       "  </thead>\n",
       "  <tbody>\n",
       "    <tr>\n",
       "      <th>0</th>\n",
       "      <td>1</td>\n",
       "      <td>1</td>\n",
       "      <td>0</td>\n",
       "      <td>29.0000</td>\n",
       "      <td>0</td>\n",
       "      <td>0</td>\n",
       "      <td>211.3375</td>\n",
       "      <td>False</td>\n",
       "      <td>False</td>\n",
       "      <td>True</td>\n",
       "    </tr>\n",
       "    <tr>\n",
       "      <th>1</th>\n",
       "      <td>1</td>\n",
       "      <td>1</td>\n",
       "      <td>1</td>\n",
       "      <td>0.9167</td>\n",
       "      <td>1</td>\n",
       "      <td>2</td>\n",
       "      <td>151.5500</td>\n",
       "      <td>False</td>\n",
       "      <td>False</td>\n",
       "      <td>True</td>\n",
       "    </tr>\n",
       "  </tbody>\n",
       "</table>\n",
       "</div>"
      ],
      "text/plain": [
       "   survived  pclass  sex      age  sibsp  parch      fare  embarked_C  \\\n",
       "0         1       1    0  29.0000      0      0  211.3375       False   \n",
       "1         1       1    1   0.9167      1      2  151.5500       False   \n",
       "\n",
       "   embarked_Q  embarked_S  \n",
       "0       False        True  \n",
       "1       False        True  "
      ]
     },
     "execution_count": 53,
     "metadata": {},
     "output_type": "execute_result"
    }
   ],
   "source": [
    "# 计算平均年龄和平均票价\n",
    "age_mean = df['age'].mean()\n",
    "fare_mean = df['fare'].mean()\n",
    "\n",
    "# 填充缺失值\n",
    "df['age'] = df['age'].fillna(age_mean)\n",
    "df['fare'] = df['fare'].fillna(fare_mean)\n",
    "df['sex'] = df['sex'].map({'female': 0, 'male': 1}).astype(int, errors='ignore')\n",
    "\n",
    "x_OneHot_df = pd.get_dummies(data = df, columns=[\"embarked\"])\n",
    "x_OneHot_df[:2]"
   ]
  },
  {
   "cell_type": "markdown",
   "metadata": {},
   "source": [
    "# Dataframe傳換為array"
   ]
  },
  {
   "cell_type": "code",
   "execution_count": 54,
   "metadata": {},
   "outputs": [
    {
     "name": "stdout",
     "output_type": "stream",
     "text": [
      "(1309, 10)\n",
      "[[1 1 0 29.0 0 0 211.3375 False False True]\n",
      " [1 1 1 0.9167 1 2 151.55 False False True]]\n"
     ]
    }
   ],
   "source": [
    "ndarray = x_OneHot_df.values\n",
    "print(ndarray.shape) # 1309筆 10個欄位\n",
    "print(ndarray[:2])"
   ]
  },
  {
   "cell_type": "code",
   "execution_count": 55,
   "metadata": {},
   "outputs": [
    {
     "name": "stdout",
     "output_type": "stream",
     "text": [
      "[1 1]\n",
      "[[1 0 29.0 0 0 211.3375 False False True]\n",
      " [1 1 0.9167 1 2 151.55 False False True]]\n"
     ]
    }
   ],
   "source": [
    "Label = ndarray[:, 0]\n",
    "Features = ndarray[:, 1:]\n",
    "\n",
    "print(Label[:2])\n",
    "print(Features[:2])"
   ]
  },
  {
   "cell_type": "markdown",
   "metadata": {},
   "source": [
    "# Standardize"
   ]
  },
  {
   "cell_type": "code",
   "execution_count": 56,
   "metadata": {},
   "outputs": [
    {
     "data": {
      "text/plain": [
       "array([[0.        , 0.        , 0.36116884, 0.        , 0.        ,\n",
       "        0.41250333, 0.        , 0.        , 1.        ],\n",
       "       [0.        , 1.        , 0.00939458, 0.125     , 0.22222222,\n",
       "        0.2958059 , 0.        , 0.        , 1.        ]])"
      ]
     },
     "execution_count": 56,
     "metadata": {},
     "output_type": "execute_result"
    }
   ],
   "source": [
    "from sklearn import preprocessing\n",
    "minmax_scale = preprocessing.MinMaxScaler(feature_range=(0, 1))\n",
    "scaledFeatures = minmax_scale.fit_transform(Features)\n",
    "scaledFeatures[:2]"
   ]
  },
  {
   "cell_type": "markdown",
   "metadata": {},
   "source": [
    "# Split data"
   ]
  },
  {
   "cell_type": "code",
   "execution_count": 57,
   "metadata": {},
   "outputs": [
    {
     "name": "stdout",
     "output_type": "stream",
     "text": [
      "total: 1309 train: 1043 test: 266\n"
     ]
    }
   ],
   "source": [
    "msk = numpy.random.rand(len(all_df)) < 0.8\n",
    "train_df = all_df[msk] # 80%\n",
    "test_df = all_df[~msk] # 20%\n",
    "\n",
    "print('total:', len(all_df), 'train:', len(train_df), 'test:', len(test_df))"
   ]
  },
  {
   "cell_type": "markdown",
   "metadata": {},
   "source": [
    "# Build PreprocessingData function "
   ]
  },
  {
   "cell_type": "code",
   "execution_count": 58,
   "metadata": {},
   "outputs": [],
   "source": [
    "def PreprocessingData(raw_df):\n",
    "    df = raw_df.drop(['name'], axis = 1)\n",
    "    age_mean = df['age'].mean()\n",
    "    df['age'] = df['age'].fillna(age_mean)\n",
    "    fare_mean = df['fare'].mean()\n",
    "    df['fare'] = df['fare'].fillna(fare_mean)\n",
    "    df['sex'] = df['sex'].map({'female': 0, 'male': 1}).astype(int)\n",
    "    x_OneHot_df = pd.get_dummies(data = df, columns=[\"embarked\"])\n",
    "\n",
    "    ndarray = x_OneHot_df.values\n",
    "    Features = ndarray[:, 1:]\n",
    "    Label = ndarray[:, 0]\n",
    "\n",
    "    minmax_scale = preprocessing.MinMaxScaler(feature_range=(0, 1))\n",
    "    scaledFeatures = minmax_scale.fit_transform(Features)\n",
    "\n",
    "    return scaledFeatures, Label"
   ]
  },
  {
   "cell_type": "markdown",
   "metadata": {},
   "source": [
    "# Model Training Error\n",
    "在model training時會遇到:`ValueError: Failed to convert a NumPy array to a Tensor (Unsupported object type int).`  \n",
    "是因為Label被解釋為不支持的對象類型 因為在Tensorflow中Label通常應該是int或float  \n",
    "所以需要`train_Label = train_Label.astype(int)` or `train_Label = train_Label.astype(float)`  "
   ]
  },
  {
   "cell_type": "code",
   "execution_count": 59,
   "metadata": {},
   "outputs": [],
   "source": [
    "train_Features, train_Label = PreprocessingData(train_df)\n",
    "test_Featurers, test_Label = PreprocessingData(test_df)\n",
    "\n",
    "train_Label = train_Label.astype(int)"
   ]
  },
  {
   "cell_type": "code",
   "execution_count": 60,
   "metadata": {},
   "outputs": [
    {
     "data": {
      "text/plain": [
       "array([[0.        , 1.        , 0.00939458, 0.125     , 0.22222222,\n",
       "        0.2958059 , 0.        , 0.        , 1.        ],\n",
       "       [0.        , 0.        , 0.0229641 , 0.125     , 0.22222222,\n",
       "        0.2958059 , 0.        , 0.        , 1.        ]])"
      ]
     },
     "execution_count": 60,
     "metadata": {},
     "output_type": "execute_result"
    }
   ],
   "source": [
    "train_Features[:2]"
   ]
  },
  {
   "cell_type": "code",
   "execution_count": 61,
   "metadata": {},
   "outputs": [
    {
     "data": {
      "text/plain": [
       "array([1, 0])"
      ]
     },
     "execution_count": 61,
     "metadata": {},
     "output_type": "execute_result"
    }
   ],
   "source": [
    "train_Label[:2]"
   ]
  },
  {
   "cell_type": "markdown",
   "metadata": {},
   "source": [
    "# Build Model"
   ]
  },
  {
   "cell_type": "code",
   "execution_count": 62,
   "metadata": {},
   "outputs": [
    {
     "name": "stderr",
     "output_type": "stream",
     "text": [
      "d:\\Program\\Anaconda\\Lib\\site-packages\\keras\\src\\layers\\core\\dense.py:88: UserWarning: Do not pass an `input_shape`/`input_dim` argument to a layer. When using Sequential models, prefer using an `Input(shape)` object as the first layer in the model instead.\n",
      "  super().__init__(activity_regularizer=activity_regularizer, **kwargs)\n"
     ]
    }
   ],
   "source": [
    "from tensorflow.keras.models import Sequential\n",
    "from tensorflow.keras.layers import Dense, Dropout\n",
    "\n",
    "model = Sequential()\n",
    "model.add(Dense(\n",
    "    units = 40,\n",
    "    input_dim = 9,\n",
    "    kernel_initializer = 'uniform',\n",
    "    activation = 'relu'\n",
    "))\n",
    "model.add(Dense(\n",
    "    units = 30,\n",
    "    kernel_initializer = 'uniform',\n",
    "    activation = 'relu'\n",
    "))\n",
    "model.add(Dense(\n",
    "    units = 1,\n",
    "    kernel_initializer = 'uniform',\n",
    "    activation = 'sigmoid'\n",
    "))"
   ]
  },
  {
   "cell_type": "markdown",
   "metadata": {},
   "source": [
    "# Training Model"
   ]
  },
  {
   "cell_type": "code",
   "execution_count": 63,
   "metadata": {},
   "outputs": [
    {
     "name": "stdout",
     "output_type": "stream",
     "text": [
      "Epoch 1/30\n"
     ]
    },
    {
     "name": "stdout",
     "output_type": "stream",
     "text": [
      "32/32 - 2s - 51ms/step - accuracy: 0.6109 - loss: 0.6887 - val_accuracy: 0.8190 - val_loss: 0.6608\n",
      "Epoch 2/30\n",
      "32/32 - 0s - 2ms/step - accuracy: 0.6141 - loss: 0.6586 - val_accuracy: 0.8190 - val_loss: 0.5435\n",
      "Epoch 3/30\n",
      "32/32 - 0s - 2ms/step - accuracy: 0.6887 - loss: 0.5894 - val_accuracy: 0.8190 - val_loss: 0.4503\n",
      "Epoch 4/30\n",
      "32/32 - 0s - 2ms/step - accuracy: 0.7740 - loss: 0.5226 - val_accuracy: 0.8190 - val_loss: 0.4230\n",
      "Epoch 5/30\n",
      "32/32 - 0s - 2ms/step - accuracy: 0.7857 - loss: 0.4949 - val_accuracy: 0.8190 - val_loss: 0.4085\n",
      "Epoch 6/30\n",
      "32/32 - 0s - 2ms/step - accuracy: 0.7804 - loss: 0.4897 - val_accuracy: 0.7905 - val_loss: 0.4130\n",
      "Epoch 7/30\n",
      "32/32 - 0s - 2ms/step - accuracy: 0.7846 - loss: 0.4756 - val_accuracy: 0.7905 - val_loss: 0.4081\n",
      "Epoch 8/30\n",
      "32/32 - 0s - 2ms/step - accuracy: 0.7889 - loss: 0.4670 - val_accuracy: 0.8095 - val_loss: 0.4028\n",
      "Epoch 9/30\n",
      "32/32 - 0s - 2ms/step - accuracy: 0.7846 - loss: 0.4615 - val_accuracy: 0.8190 - val_loss: 0.4053\n",
      "Epoch 10/30\n",
      "32/32 - 0s - 2ms/step - accuracy: 0.7846 - loss: 0.4621 - val_accuracy: 0.8095 - val_loss: 0.3962\n",
      "Epoch 11/30\n",
      "32/32 - 0s - 2ms/step - accuracy: 0.7964 - loss: 0.4638 - val_accuracy: 0.8095 - val_loss: 0.4009\n",
      "Epoch 12/30\n",
      "32/32 - 0s - 2ms/step - accuracy: 0.7932 - loss: 0.4655 - val_accuracy: 0.8190 - val_loss: 0.3957\n",
      "Epoch 13/30\n",
      "32/32 - 0s - 2ms/step - accuracy: 0.7846 - loss: 0.4599 - val_accuracy: 0.8381 - val_loss: 0.3865\n",
      "Epoch 14/30\n",
      "32/32 - 0s - 2ms/step - accuracy: 0.8017 - loss: 0.4533 - val_accuracy: 0.8190 - val_loss: 0.3940\n",
      "Epoch 15/30\n",
      "32/32 - 0s - 2ms/step - accuracy: 0.8017 - loss: 0.4546 - val_accuracy: 0.8381 - val_loss: 0.3865\n",
      "Epoch 16/30\n",
      "32/32 - 0s - 2ms/step - accuracy: 0.8017 - loss: 0.4535 - val_accuracy: 0.8190 - val_loss: 0.3932\n",
      "Epoch 17/30\n",
      "32/32 - 0s - 2ms/step - accuracy: 0.8038 - loss: 0.4555 - val_accuracy: 0.8381 - val_loss: 0.3897\n",
      "Epoch 18/30\n",
      "32/32 - 0s - 2ms/step - accuracy: 0.8049 - loss: 0.4420 - val_accuracy: 0.8381 - val_loss: 0.3891\n",
      "Epoch 19/30\n",
      "32/32 - 0s - 2ms/step - accuracy: 0.8081 - loss: 0.4465 - val_accuracy: 0.8381 - val_loss: 0.3901\n",
      "Epoch 20/30\n",
      "32/32 - 0s - 2ms/step - accuracy: 0.7953 - loss: 0.4566 - val_accuracy: 0.8381 - val_loss: 0.3866\n",
      "Epoch 21/30\n",
      "32/32 - 0s - 2ms/step - accuracy: 0.8070 - loss: 0.4521 - val_accuracy: 0.8381 - val_loss: 0.3952\n",
      "Epoch 22/30\n",
      "32/32 - 0s - 2ms/step - accuracy: 0.8028 - loss: 0.4444 - val_accuracy: 0.8381 - val_loss: 0.3910\n",
      "Epoch 23/30\n",
      "32/32 - 0s - 2ms/step - accuracy: 0.8006 - loss: 0.4471 - val_accuracy: 0.8286 - val_loss: 0.3965\n",
      "Epoch 24/30\n",
      "32/32 - 0s - 2ms/step - accuracy: 0.8038 - loss: 0.4435 - val_accuracy: 0.8190 - val_loss: 0.3924\n",
      "Epoch 25/30\n",
      "32/32 - 0s - 2ms/step - accuracy: 0.8102 - loss: 0.4412 - val_accuracy: 0.8286 - val_loss: 0.3919\n",
      "Epoch 26/30\n",
      "32/32 - 0s - 2ms/step - accuracy: 0.8081 - loss: 0.4415 - val_accuracy: 0.8381 - val_loss: 0.3916\n",
      "Epoch 27/30\n",
      "32/32 - 0s - 2ms/step - accuracy: 0.8049 - loss: 0.4495 - val_accuracy: 0.8381 - val_loss: 0.3918\n",
      "Epoch 28/30\n",
      "32/32 - 0s - 3ms/step - accuracy: 0.8038 - loss: 0.4460 - val_accuracy: 0.8381 - val_loss: 0.4002\n",
      "Epoch 29/30\n",
      "32/32 - 0s - 2ms/step - accuracy: 0.8070 - loss: 0.4380 - val_accuracy: 0.8381 - val_loss: 0.3935\n",
      "Epoch 30/30\n",
      "32/32 - 0s - 3ms/step - accuracy: 0.8081 - loss: 0.4507 - val_accuracy: 0.8190 - val_loss: 0.3927\n"
     ]
    }
   ],
   "source": [
    "model.compile(\n",
    "    loss = 'binary_crossentropy',\n",
    "    optimizer = 'adam',\n",
    "    metrics = ['accuracy']\n",
    ")\n",
    "\n",
    "train_history = model.fit(\n",
    "    x = train_Features,\n",
    "    y = train_Label,\n",
    "    validation_split = 0.1,\n",
    "    epochs = 30,\n",
    "    batch_size = 30,\n",
    "    verbose = 2\n",
    ")"
   ]
  },
  {
   "cell_type": "code",
   "execution_count": 64,
   "metadata": {},
   "outputs": [
    {
     "data": {
      "image/png": "[encoded data removed]",
      "text/plain": [
       "<Figure size 640x480 with 1 Axes>"
      ]
     },
     "metadata": {},
     "output_type": "display_data"
    },
    {
     "data": {
      "image/png": "[encoded data removed]",
      "text/plain": [
       "<Figure size 640x480 with 1 Axes>"
      ]
     },
     "metadata": {},
     "output_type": "display_data"
    }
   ],
   "source": [
    "import matplotlib.pyplot as plt\n",
    "def show_train_history(train_history, train, validation):\n",
    "    plt.plot(train_history.history[train])\n",
    "    plt.plot(train_history.history[validation])\n",
    "    plt.title('Train History')\n",
    "    plt.ylabel('train')\n",
    "    plt.xlabel('Epoch')\n",
    "    plt.legend(['train', 'validation'], loc = 'upper left')\n",
    "    plt.show()\n",
    "\n",
    "show_train_history(train_history, 'accuracy', 'val_accuracy')\n",
    "show_train_history(train_history, 'loss', 'val_loss')"
   ]
  },
  {
   "cell_type": "markdown",
   "metadata": {},
   "source": [
    "# Evaluate Model Accuracy\n",
    "\n",
    "Error:`ValueError: Failed to convert a NumPy array to a Tensor (Unsupported object type int).`  \n",
    "跟上面處理方式一樣`test_Label = test_Label.astype(int)`  "
   ]
  },
  {
   "cell_type": "code",
   "execution_count": 66,
   "metadata": {},
   "outputs": [
    {
     "name": "stdout",
     "output_type": "stream",
     "text": [
      "\u001b[1m9/9\u001b[0m \u001b[32m━━━━━━━━━━━━━━━━━━━━\u001b[0m\u001b[37m\u001b[0m \u001b[1m0s\u001b[0m 1ms/step - accuracy: 0.7761 - loss: 0.4694 \n"
     ]
    }
   ],
   "source": [
    "test_Label = test_Label.astype(int)\n",
    "scores = model.evaluate(\n",
    "    x = test_Featurers,\n",
    "    y = test_Label\n",
    ")"
   ]
  },
  {
   "cell_type": "code",
   "execution_count": 67,
   "metadata": {},
   "outputs": [
    {
     "data": {
      "text/plain": [
       "0.7744361162185669"
      ]
     },
     "execution_count": 67,
     "metadata": {},
     "output_type": "execute_result"
    }
   ],
   "source": [
    "scores[1]"
   ]
  }
 ],
 "metadata": {
  "kernelspec": {
   "display_name": "base",
   "language": "python",
   "name": "python3"
  },
  "language_info": {
   "codemirror_mode": {
    "name": "ipython",
    "version": 3
   },
   "file_extension": ".py",
   "mimetype": "text/x-python",
   "name": "python",
   "nbconvert_exporter": "python",
   "pygments_lexer": "ipython3",
   "version": "3.11.7"
  }
 },
 "nbformat": 4,
 "nbformat_minor": 2
}
