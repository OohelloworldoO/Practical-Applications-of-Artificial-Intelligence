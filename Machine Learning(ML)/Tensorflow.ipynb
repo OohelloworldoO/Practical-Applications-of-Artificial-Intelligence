{
 "cells": [
  {
   "cell_type": "markdown",
   "metadata": {},
   "source": [
    "# The difference between Tensorflow  & Keras\n",
    "Tensorflow與Keras最大的差別是 Tensorflow必須要自行設計tensor(矩陣)運算  \n",
    "Keras是在Tensorflow之上的高階API 提供了更簡潔和方便  \n",
    "Tensorflow是一個用於Nerual Network的的數學庫 \n",
    "\n",
    "可以使用Tensorflow提供的model建立計算圖 自己設計張量運算流程 並建構Deep learning model、machine learning model"
   ]
  },
  {
   "cell_type": "markdown",
   "metadata": {},
   "source": [
    "# 建立計算圖"
   ]
  },
  {
   "cell_type": "code",
   "execution_count": 2,
   "metadata": {},
   "outputs": [
    {
     "name": "stdout",
     "output_type": "stream",
     "text": [
      "2.16.1\n"
     ]
    }
   ],
   "source": [
    "print(tf.__version__)"
   ]
  },
  {
   "cell_type": "markdown",
   "metadata": {},
   "source": [
    "# 建立計算圖"
   ]
  },
  {
   "cell_type": "code",
   "execution_count": 3,
   "metadata": {},
   "outputs": [
    {
     "name": "stdout",
     "output_type": "stream",
     "text": [
      "WARNING:tensorflow:From C:\\Temp\\ipykernel_16956\\3957535657.py:2: The name tf.disable_v2_behavior is deprecated. Please use tf.compat.v1.disable_v2_behavior instead.\n",
      "\n",
      "WARNING:tensorflow:From d:\\Program\\Anaconda\\Lib\\site-packages\\tensorflow\\python\\compat\\v2_compat.py:98: disable_resource_variables (from tensorflow.python.ops.resource_variables_toggle) is deprecated and will be removed in a future version.\n",
      "Instructions for updating:\n",
      "non-resource variables are not supported in the long term\n",
      "Tensor(\"ts_c:0\", shape=(), dtype=int32)\n",
      "<tf.Variable 'ts_x:0' shape=() dtype=int32_ref>\n"
     ]
    }
   ],
   "source": [
    "import tensorflow.compat.v1 as tf\n",
    "tf.disable_v2_behavior()\n",
    "\n",
    "ts_c = tf.constant(2, name = 'ts_c')\n",
    "print(ts_c)\n",
    "\n",
    "ts_x = tf.Variable(ts_c + 5, name='ts_x')\n",
    "print(ts_x)"
   ]
  },
  {
   "cell_type": "code",
   "execution_count": 4,
   "metadata": {},
   "outputs": [
    {
     "name": "stdout",
     "output_type": "stream",
     "text": [
      "WARNING:tensorflow:From C:\\Temp\\ipykernel_16956\\2637798104.py:3: The name tf.Session is deprecated. Please use tf.compat.v1.Session instead.\n",
      "\n",
      "ts_c= 2\n",
      "ts_x= 7\n",
      "ts_c= 2\n",
      "ts_x= 7\n"
     ]
    }
   ],
   "source": [
    "import tensorflow.compat.v1 as tf\n",
    "tf.disable_v2_behavior()\n",
    "sess = tf.compat.v1.Session()\n",
    "\n",
    "with tf.Session() as sess:\n",
    "    init = tf.compat.v1.global_variables_initializer()\n",
    "    sess.run(init)\n",
    "    print('ts_c=', sess.run(ts_c))\n",
    "    print('ts_x=', sess.run(ts_x))\n",
    "    print('ts_c=', ts_c.eval(session=sess))\n",
    "    print('ts_x=', ts_x.eval(session=sess))\n",
    "\n",
    "sess.close()\n"
   ]
  },
  {
   "cell_type": "markdown",
   "metadata": {},
   "source": [
    "# Tensorflow placeholder"
   ]
  },
  {
   "cell_type": "markdown",
   "metadata": {},
   "source": [
    "建立計算圖"
   ]
  },
  {
   "cell_type": "code",
   "execution_count": 5,
   "metadata": {},
   "outputs": [],
   "source": [
    "width = tf.placeholder(\"int32\")\n",
    "height = tf.placeholder(\"int32\")\n",
    "area = tf.multiply(width, height)"
   ]
  },
  {
   "cell_type": "markdown",
   "metadata": {},
   "source": [
    "執行"
   ]
  },
  {
   "cell_type": "code",
   "execution_count": 6,
   "metadata": {},
   "outputs": [
    {
     "name": "stdout",
     "output_type": "stream",
     "text": [
      "area = 48\n"
     ]
    }
   ],
   "source": [
    "import tensorflow.compat.v1 as tf\n",
    "tf.disable_v2_behavior()\n",
    "\n",
    "with tf.compat.v1.Session() as sess:\n",
    "    init = tf.compat.v1.global_variables_initializer()\n",
    "    sess.run(init)\n",
    "    print('area =', sess.run(area, feed_dict={width: 6, height: 8}))\n"
   ]
  },
  {
   "cell_type": "markdown",
   "metadata": {},
   "source": [
    "# TensorBoard"
   ]
  },
  {
   "cell_type": "markdown",
   "metadata": {},
   "source": [
    "需要絕對位置:  \n",
    "`tensorboard --logdir=\"D:\\Project\\Practical-Applications-of-Artificial-Intelligence\\Machine Learning(ML)\\log\\area\"`   \n",
    "才找的到tensorflow board  \n",
    "![tensorflow board](./images/Tensorflow%20board.png)"
   ]
  },
  {
   "cell_type": "code",
   "execution_count": 7,
   "metadata": {},
   "outputs": [
    {
     "name": "stdout",
     "output_type": "stream",
     "text": [
      "area= 48\n",
      "WARNING:tensorflow:From C:\\Temp\\ipykernel_16956\\1483988473.py:17: The name tf.summary.FileWriter is deprecated. Please use tf.compat.v1.summary.FileWriter instead.\n",
      "\n"
     ]
    }
   ],
   "source": [
    "import tensorflow.compat.v1 as tf\n",
    "tf.disable_v2_behavior()\n",
    "\n",
    "width = tf.placeholder(\"int32\", name='width')\n",
    "height = tf.placeholder(\"int32\", name='height')\n",
    "area = tf.multiply(width, height, name='area')\n",
    "\n",
    "# 将摘要操作添加到图中\n",
    "tf.summary.scalar('area_summary', area)\n",
    "\n",
    "with tf.Session() as sess:\n",
    "    init = tf.global_variables_initializer()\n",
    "    sess.run(init)\n",
    "    print('area=', sess.run(area, feed_dict={width: 6, height: 8}))\n",
    "\n",
    "    # 创建 FileWriter 对象来写入摘要数据\n",
    "    train_writer = tf.compat.v1.summary.FileWriter('log/area', sess.graph)\n",
    "    \n",
    "    # 运行摘要操作，并将摘要数据写入日志文件\n",
    "    summary = sess.run(tf.compat.v1.summary.merge_all(), feed_dict={width: 6, height: 8})\n",
    "    train_writer.add_summary(summary)\n"
   ]
  },
  {
   "cell_type": "code",
   "execution_count": 9,
   "metadata": {},
   "outputs": [
    {
     "name": "stdout",
     "output_type": "stream",
     "text": [
      "[0.4 0.2 0.4]\n"
     ]
    }
   ],
   "source": [
    "ts_x = tf.Variable([0.4, 0.2, 0.4])\n",
    "\n",
    "with tf.Session() as sess:\n",
    "    init = tf.global_variables_initializer()\n",
    "    sess.run(init)\n",
    "    X = sess.run(ts_x)\n",
    "    print(X)"
   ]
  },
  {
   "cell_type": "code",
   "execution_count": 10,
   "metadata": {},
   "outputs": [
    {
     "name": "stdout",
     "output_type": "stream",
     "text": [
      "(3,)\n"
     ]
    }
   ],
   "source": [
    "print(X.shape)"
   ]
  },
  {
   "cell_type": "code",
   "execution_count": 12,
   "metadata": {},
   "outputs": [
    {
     "name": "stdout",
     "output_type": "stream",
     "text": [
      "[[0.4 0.2 0.4]]\n",
      "shape: (1, 3)\n"
     ]
    }
   ],
   "source": [
    "ts_X = tf.Variable([[0.4, 0.2, 0.4]])\n",
    "\n",
    "with tf.Session() as sess:\n",
    "    init = tf.global_variables_initializer()\n",
    "    sess.run(init)\n",
    "    X = sess.run(ts_X)\n",
    "    print(X)\n",
    "    \n",
    "print('shape:', X.shape)"
   ]
  },
  {
   "cell_type": "code",
   "execution_count": 16,
   "metadata": {},
   "outputs": [
    {
     "name": "stdout",
     "output_type": "stream",
     "text": [
      "[[-0.5 -0.2]\n",
      " [-0.3  0.4]\n",
      " [-0.5  0.2]]\n",
      "(3, 2)\n"
     ]
    }
   ],
   "source": [
    "W = tf.Variable([[-0.5, -0.2],\n",
    "                 [-0.3, 0.4],\n",
    "                 [-0.5, 0.2]])\n",
    "\n",
    "with tf.Session() as sess:\n",
    "    init = tf.global_variables_initializer()\n",
    "    sess.run(init)\n",
    "    W_array = sess.run(W)\n",
    "    print(W_array)\n",
    "\n",
    "print(W_array.shape)"
   ]
  },
  {
   "cell_type": "markdown",
   "metadata": {},
   "source": [
    "# Operations of Matrices\n",
    "multiplication"
   ]
  },
  {
   "cell_type": "code",
   "execution_count": 18,
   "metadata": {},
   "outputs": [
    {
     "name": "stdout",
     "output_type": "stream",
     "text": [
      "[[-1.3  0.4]]\n"
     ]
    }
   ],
   "source": [
    "X = tf.Variable([[1., 1., 1.]])\n",
    "\n",
    "W = tf.Variable([[-0.5, -0.2],\n",
    "                 [-0.3, 0.4],\n",
    "                 [-0.5, 0.2]])\n",
    "XW = tf.matmul(X, W)\n",
    "\n",
    "with tf.Session() as sess:\n",
    "    init = tf.global_variables_initializer()\n",
    "    sess.run(init)\n",
    "    print(sess.run(XW))"
   ]
  },
  {
   "cell_type": "markdown",
   "metadata": {},
   "source": [
    "addition"
   ]
  },
  {
   "cell_type": "code",
   "execution_count": 23,
   "metadata": {},
   "outputs": [
    {
     "name": "stdout",
     "output_type": "stream",
     "text": [
      "Sum:\n",
      "[[-1.1999999  0.6      ]]\n"
     ]
    }
   ],
   "source": [
    "b = tf.Variable([[0.1, 0.2]])\n",
    "XW = tf.Variable([[-1.3, 0.4]])\n",
    "\n",
    "Sum = XW + b\n",
    "\n",
    "with tf.Session() as sess:\n",
    "    init = tf.global_variables_initializer()\n",
    "    sess.run(init)\n",
    "    print('Sum:')\n",
    "    print(sess.run(Sum))"
   ]
  },
  {
   "cell_type": "code",
   "execution_count": 24,
   "metadata": {},
   "outputs": [
    {
     "name": "stdout",
     "output_type": "stream",
     "text": [
      "XWb:\n",
      "[[-1.1999999  0.6      ]]\n"
     ]
    }
   ],
   "source": [
    "X = tf.Variable([[1., 1., 1.]])\n",
    "\n",
    "W = tf.Variable([[-0.5, -0.2],\n",
    "                 [-0.3, 0.4],\n",
    "                 [-0.5, 0.2]])\n",
    "\n",
    "b = tf.Variable([[0.1, 0.2]])\n",
    "\n",
    "XWb = tf.matmul(X, W) + b\n",
    "\n",
    "with tf.Session() as sess:\n",
    "    init = tf.global_variables_initializer()\n",
    "    sess.run(init)\n",
    "    print('XWb:')\n",
    "    print(sess.run(XWb))"
   ]
  }
 ],
 "metadata": {
  "kernelspec": {
   "display_name": "base",
   "language": "python",
   "name": "python3"
  },
  "language_info": {
   "codemirror_mode": {
    "name": "ipython",
    "version": 3
   },
   "file_extension": ".py",
   "mimetype": "text/x-python",
   "name": "python",
   "nbconvert_exporter": "python",
   "pygments_lexer": "ipython3",
   "version": "3.11.7"
  }
 },
 "nbformat": 4,
 "nbformat_minor": 2
}
