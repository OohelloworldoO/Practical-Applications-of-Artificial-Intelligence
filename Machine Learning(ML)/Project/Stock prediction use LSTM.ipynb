{
 "cells": [
  {
   "cell_type": "markdown",
   "metadata": {},
   "source": [
    "# Download Data"
   ]
  },
  {
   "cell_type": "code",
   "execution_count": 38,
   "metadata": {},
   "outputs": [
    {
     "data": {
      "text/html": [
       "<div>\n",
       "<style scoped>\n",
       "    .dataframe tbody tr th:only-of-type {\n",
       "        vertical-align: middle;\n",
       "    }\n",
       "\n",
       "    .dataframe tbody tr th {\n",
       "        vertical-align: top;\n",
       "    }\n",
       "\n",
       "    .dataframe thead th {\n",
       "        text-align: right;\n",
       "    }\n",
       "</style>\n",
       "<table border=\"1\" class=\"dataframe\">\n",
       "  <thead>\n",
       "    <tr style=\"text-align: right;\">\n",
       "      <th></th>\n",
       "      <th>Open</th>\n",
       "      <th>High</th>\n",
       "      <th>Low</th>\n",
       "      <th>Close</th>\n",
       "      <th>Volume</th>\n",
       "      <th>Dividends</th>\n",
       "      <th>Stock Splits</th>\n",
       "      <th>Capital Gains</th>\n",
       "    </tr>\n",
       "    <tr>\n",
       "      <th>Date</th>\n",
       "      <th></th>\n",
       "      <th></th>\n",
       "      <th></th>\n",
       "      <th></th>\n",
       "      <th></th>\n",
       "      <th></th>\n",
       "      <th></th>\n",
       "      <th></th>\n",
       "    </tr>\n",
       "  </thead>\n",
       "  <tbody>\n",
       "    <tr>\n",
       "      <th>2014-05-21 00:00:00+08:00</th>\n",
       "      <td>25.352111</td>\n",
       "      <td>25.352111</td>\n",
       "      <td>25.344860</td>\n",
       "      <td>25.344860</td>\n",
       "      <td>5000</td>\n",
       "      <td>0.0</td>\n",
       "      <td>0.0</td>\n",
       "      <td>0.0</td>\n",
       "    </tr>\n",
       "    <tr>\n",
       "      <th>2014-05-22 00:00:00+08:00</th>\n",
       "      <td>25.388355</td>\n",
       "      <td>25.591345</td>\n",
       "      <td>25.388355</td>\n",
       "      <td>25.591345</td>\n",
       "      <td>133000</td>\n",
       "      <td>0.0</td>\n",
       "      <td>0.0</td>\n",
       "      <td>0.0</td>\n",
       "    </tr>\n",
       "    <tr>\n",
       "      <th>2014-05-23 00:00:00+08:00</th>\n",
       "      <td>25.663842</td>\n",
       "      <td>25.700090</td>\n",
       "      <td>25.627592</td>\n",
       "      <td>25.678339</td>\n",
       "      <td>8000</td>\n",
       "      <td>0.0</td>\n",
       "      <td>0.0</td>\n",
       "      <td>0.0</td>\n",
       "    </tr>\n",
       "    <tr>\n",
       "      <th>2014-05-26 00:00:00+08:00</th>\n",
       "      <td>25.787085</td>\n",
       "      <td>25.787085</td>\n",
       "      <td>25.787085</td>\n",
       "      <td>25.787085</td>\n",
       "      <td>1000</td>\n",
       "      <td>0.0</td>\n",
       "      <td>0.0</td>\n",
       "      <td>0.0</td>\n",
       "    </tr>\n",
       "    <tr>\n",
       "      <th>2014-05-27 00:00:00+08:00</th>\n",
       "      <td>25.801582</td>\n",
       "      <td>25.830582</td>\n",
       "      <td>25.794334</td>\n",
       "      <td>25.830582</td>\n",
       "      <td>11000</td>\n",
       "      <td>0.0</td>\n",
       "      <td>0.0</td>\n",
       "      <td>0.0</td>\n",
       "    </tr>\n",
       "    <tr>\n",
       "      <th>...</th>\n",
       "      <td>...</td>\n",
       "      <td>...</td>\n",
       "      <td>...</td>\n",
       "      <td>...</td>\n",
       "      <td>...</td>\n",
       "      <td>...</td>\n",
       "      <td>...</td>\n",
       "      <td>...</td>\n",
       "    </tr>\n",
       "    <tr>\n",
       "      <th>2024-05-14 00:00:00+08:00</th>\n",
       "      <td>95.300003</td>\n",
       "      <td>96.150002</td>\n",
       "      <td>95.199997</td>\n",
       "      <td>96.150002</td>\n",
       "      <td>2690743</td>\n",
       "      <td>0.0</td>\n",
       "      <td>0.0</td>\n",
       "      <td>0.0</td>\n",
       "    </tr>\n",
       "    <tr>\n",
       "      <th>2024-05-15 00:00:00+08:00</th>\n",
       "      <td>96.650002</td>\n",
       "      <td>98.199997</td>\n",
       "      <td>96.650002</td>\n",
       "      <td>97.500000</td>\n",
       "      <td>4232415</td>\n",
       "      <td>0.0</td>\n",
       "      <td>0.0</td>\n",
       "      <td>0.0</td>\n",
       "    </tr>\n",
       "    <tr>\n",
       "      <th>2024-05-16 00:00:00+08:00</th>\n",
       "      <td>98.699997</td>\n",
       "      <td>99.300003</td>\n",
       "      <td>97.849998</td>\n",
       "      <td>98.099998</td>\n",
       "      <td>7812350</td>\n",
       "      <td>0.0</td>\n",
       "      <td>0.0</td>\n",
       "      <td>0.0</td>\n",
       "    </tr>\n",
       "    <tr>\n",
       "      <th>2024-05-17 00:00:00+08:00</th>\n",
       "      <td>98.099998</td>\n",
       "      <td>98.199997</td>\n",
       "      <td>97.650002</td>\n",
       "      <td>97.800003</td>\n",
       "      <td>3381637</td>\n",
       "      <td>0.0</td>\n",
       "      <td>0.0</td>\n",
       "      <td>0.0</td>\n",
       "    </tr>\n",
       "    <tr>\n",
       "      <th>2024-05-21 00:00:00+08:00</th>\n",
       "      <td>97.599998</td>\n",
       "      <td>97.750000</td>\n",
       "      <td>97.050003</td>\n",
       "      <td>97.650002</td>\n",
       "      <td>1597869</td>\n",
       "      <td>0.0</td>\n",
       "      <td>0.0</td>\n",
       "      <td>0.0</td>\n",
       "    </tr>\n",
       "  </tbody>\n",
       "</table>\n",
       "<p>2438 rows × 8 columns</p>\n",
       "</div>"
      ],
      "text/plain": [
       "                                Open       High        Low      Close  \\\n",
       "Date                                                                    \n",
       "2014-05-21 00:00:00+08:00  25.352111  25.352111  25.344860  25.344860   \n",
       "2014-05-22 00:00:00+08:00  25.388355  25.591345  25.388355  25.591345   \n",
       "2014-05-23 00:00:00+08:00  25.663842  25.700090  25.627592  25.678339   \n",
       "2014-05-26 00:00:00+08:00  25.787085  25.787085  25.787085  25.787085   \n",
       "2014-05-27 00:00:00+08:00  25.801582  25.830582  25.794334  25.830582   \n",
       "...                              ...        ...        ...        ...   \n",
       "2024-05-14 00:00:00+08:00  95.300003  96.150002  95.199997  96.150002   \n",
       "2024-05-15 00:00:00+08:00  96.650002  98.199997  96.650002  97.500000   \n",
       "2024-05-16 00:00:00+08:00  98.699997  99.300003  97.849998  98.099998   \n",
       "2024-05-17 00:00:00+08:00  98.099998  98.199997  97.650002  97.800003   \n",
       "2024-05-21 00:00:00+08:00  97.599998  97.750000  97.050003  97.650002   \n",
       "\n",
       "                            Volume  Dividends  Stock Splits  Capital Gains  \n",
       "Date                                                                        \n",
       "2014-05-21 00:00:00+08:00     5000        0.0           0.0            0.0  \n",
       "2014-05-22 00:00:00+08:00   133000        0.0           0.0            0.0  \n",
       "2014-05-23 00:00:00+08:00     8000        0.0           0.0            0.0  \n",
       "2014-05-26 00:00:00+08:00     1000        0.0           0.0            0.0  \n",
       "2014-05-27 00:00:00+08:00    11000        0.0           0.0            0.0  \n",
       "...                            ...        ...           ...            ...  \n",
       "2024-05-14 00:00:00+08:00  2690743        0.0           0.0            0.0  \n",
       "2024-05-15 00:00:00+08:00  4232415        0.0           0.0            0.0  \n",
       "2024-05-16 00:00:00+08:00  7812350        0.0           0.0            0.0  \n",
       "2024-05-17 00:00:00+08:00  3381637        0.0           0.0            0.0  \n",
       "2024-05-21 00:00:00+08:00  1597869        0.0           0.0            0.0  \n",
       "\n",
       "[2438 rows x 8 columns]"
      ]
     },
     "execution_count": 38,
     "metadata": {},
     "output_type": "execute_result"
    }
   ],
   "source": [
    "import yfinance as yf\n",
    "ETF = \"006208.TW\"\n",
    "History = \"10y\"\n",
    "all_day_k = yf.Ticker(ETF).history(period = History, interval = \"1d\")\n",
    "\n",
    "all_day_k"
   ]
  },
  {
   "cell_type": "markdown",
   "metadata": {},
   "source": [
    "# Filter data"
   ]
  },
  {
   "cell_type": "code",
   "execution_count": 39,
   "metadata": {},
   "outputs": [
    {
     "data": {
      "text/html": [
       "<div>\n",
       "<style scoped>\n",
       "    .dataframe tbody tr th:only-of-type {\n",
       "        vertical-align: middle;\n",
       "    }\n",
       "\n",
       "    .dataframe tbody tr th {\n",
       "        vertical-align: top;\n",
       "    }\n",
       "\n",
       "    .dataframe thead th {\n",
       "        text-align: right;\n",
       "    }\n",
       "</style>\n",
       "<table border=\"1\" class=\"dataframe\">\n",
       "  <thead>\n",
       "    <tr style=\"text-align: right;\">\n",
       "      <th></th>\n",
       "      <th>Open</th>\n",
       "      <th>High</th>\n",
       "      <th>Low</th>\n",
       "      <th>Close</th>\n",
       "      <th>Volume</th>\n",
       "    </tr>\n",
       "    <tr>\n",
       "      <th>Date</th>\n",
       "      <th></th>\n",
       "      <th></th>\n",
       "      <th></th>\n",
       "      <th></th>\n",
       "      <th></th>\n",
       "    </tr>\n",
       "  </thead>\n",
       "  <tbody>\n",
       "    <tr>\n",
       "      <th>2014-05-21 00:00:00+08:00</th>\n",
       "      <td>25.352111</td>\n",
       "      <td>25.352111</td>\n",
       "      <td>25.344860</td>\n",
       "      <td>25.344860</td>\n",
       "      <td>5000</td>\n",
       "    </tr>\n",
       "    <tr>\n",
       "      <th>2014-05-22 00:00:00+08:00</th>\n",
       "      <td>25.388355</td>\n",
       "      <td>25.591345</td>\n",
       "      <td>25.388355</td>\n",
       "      <td>25.591345</td>\n",
       "      <td>133000</td>\n",
       "    </tr>\n",
       "    <tr>\n",
       "      <th>2014-05-23 00:00:00+08:00</th>\n",
       "      <td>25.663842</td>\n",
       "      <td>25.700090</td>\n",
       "      <td>25.627592</td>\n",
       "      <td>25.678339</td>\n",
       "      <td>8000</td>\n",
       "    </tr>\n",
       "    <tr>\n",
       "      <th>2014-05-26 00:00:00+08:00</th>\n",
       "      <td>25.787085</td>\n",
       "      <td>25.787085</td>\n",
       "      <td>25.787085</td>\n",
       "      <td>25.787085</td>\n",
       "      <td>1000</td>\n",
       "    </tr>\n",
       "    <tr>\n",
       "      <th>2014-05-27 00:00:00+08:00</th>\n",
       "      <td>25.801582</td>\n",
       "      <td>25.830582</td>\n",
       "      <td>25.794334</td>\n",
       "      <td>25.830582</td>\n",
       "      <td>11000</td>\n",
       "    </tr>\n",
       "    <tr>\n",
       "      <th>...</th>\n",
       "      <td>...</td>\n",
       "      <td>...</td>\n",
       "      <td>...</td>\n",
       "      <td>...</td>\n",
       "      <td>...</td>\n",
       "    </tr>\n",
       "    <tr>\n",
       "      <th>2024-05-13 00:00:00+08:00</th>\n",
       "      <td>95.650002</td>\n",
       "      <td>96.000000</td>\n",
       "      <td>95.349998</td>\n",
       "      <td>95.400002</td>\n",
       "      <td>4509173</td>\n",
       "    </tr>\n",
       "    <tr>\n",
       "      <th>2024-05-14 00:00:00+08:00</th>\n",
       "      <td>95.300003</td>\n",
       "      <td>96.150002</td>\n",
       "      <td>95.199997</td>\n",
       "      <td>96.150002</td>\n",
       "      <td>2690743</td>\n",
       "    </tr>\n",
       "    <tr>\n",
       "      <th>2024-05-15 00:00:00+08:00</th>\n",
       "      <td>96.650002</td>\n",
       "      <td>98.199997</td>\n",
       "      <td>96.650002</td>\n",
       "      <td>97.500000</td>\n",
       "      <td>4232415</td>\n",
       "    </tr>\n",
       "    <tr>\n",
       "      <th>2024-05-16 00:00:00+08:00</th>\n",
       "      <td>98.699997</td>\n",
       "      <td>99.300003</td>\n",
       "      <td>97.849998</td>\n",
       "      <td>98.099998</td>\n",
       "      <td>7812350</td>\n",
       "    </tr>\n",
       "    <tr>\n",
       "      <th>2024-05-17 00:00:00+08:00</th>\n",
       "      <td>98.099998</td>\n",
       "      <td>98.199997</td>\n",
       "      <td>97.650002</td>\n",
       "      <td>97.800003</td>\n",
       "      <td>3381637</td>\n",
       "    </tr>\n",
       "  </tbody>\n",
       "</table>\n",
       "<p>2437 rows × 5 columns</p>\n",
       "</div>"
      ],
      "text/plain": [
       "                                Open       High        Low      Close   Volume\n",
       "Date                                                                          \n",
       "2014-05-21 00:00:00+08:00  25.352111  25.352111  25.344860  25.344860     5000\n",
       "2014-05-22 00:00:00+08:00  25.388355  25.591345  25.388355  25.591345   133000\n",
       "2014-05-23 00:00:00+08:00  25.663842  25.700090  25.627592  25.678339     8000\n",
       "2014-05-26 00:00:00+08:00  25.787085  25.787085  25.787085  25.787085     1000\n",
       "2014-05-27 00:00:00+08:00  25.801582  25.830582  25.794334  25.830582    11000\n",
       "...                              ...        ...        ...        ...      ...\n",
       "2024-05-13 00:00:00+08:00  95.650002  96.000000  95.349998  95.400002  4509173\n",
       "2024-05-14 00:00:00+08:00  95.300003  96.150002  95.199997  96.150002  2690743\n",
       "2024-05-15 00:00:00+08:00  96.650002  98.199997  96.650002  97.500000  4232415\n",
       "2024-05-16 00:00:00+08:00  98.699997  99.300003  97.849998  98.099998  7812350\n",
       "2024-05-17 00:00:00+08:00  98.099998  98.199997  97.650002  97.800003  3381637\n",
       "\n",
       "[2437 rows x 5 columns]"
      ]
     },
     "execution_count": 39,
     "metadata": {},
     "output_type": "execute_result"
    }
   ],
   "source": [
    "all_day_k = all_day_k.drop(columns=[\"Dividends\", \"Stock Splits\",\"Capital Gains\"])\n",
    "all_day_k = all_day_k[:-1]\n",
    "all_day_k"
   ]
  },
  {
   "cell_type": "markdown",
   "metadata": {},
   "source": [
    "# Construct dataset"
   ]
  },
  {
   "cell_type": "code",
   "execution_count": 40,
   "metadata": {},
   "outputs": [],
   "source": [
    "import numpy as np\n",
    "import pandas as pd\n",
    "\n",
    "PAST_WIN_LEN = 100\n",
    "CLASSES = [\"Bull\", \"Bear\"]\n",
    "LABEL_BULL = CLASSES.index(\"Bull\")\n",
    "LABEL_BEAR = CLASSES.index(\"Bear\")\n",
    "\n",
    "x, y = [], []\n",
    "for today_i in range(len(all_day_k)):\n",
    "    day_k_past = all_day_k[:today_i + 1]\n",
    "    day_k_forward = all_day_k[today_i + 1:]\n",
    "    if len(day_k_past) < PAST_WIN_LEN or len(day_k_forward) < 1:\n",
    "        continue\n",
    "    day_k_past_win = day_k_past[-PAST_WIN_LEN:]\n",
    "    day_k_forward_win = day_k_forward[:1]\n",
    "\n",
    "    today_price = day_k_past_win.iloc[-1][\"Close\"]\n",
    "    tomorrow_price = day_k_forward_win.iloc[0][\"Close\"]\n",
    "    label = LABEL_BULL if tomorrow_price > today_price else LABEL_BEAR\n",
    "\n",
    "    x.append(day_k_past_win.values)\n",
    "    y.append(label)\n",
    "\n",
    "x, y = np.array(x), np.array(y)"
   ]
  },
  {
   "cell_type": "code",
   "execution_count": 41,
   "metadata": {},
   "outputs": [
    {
     "data": {
      "text/plain": [
       "(2337, 100, 5)"
      ]
     },
     "execution_count": 41,
     "metadata": {},
     "output_type": "execute_result"
    }
   ],
   "source": [
    "x.shape"
   ]
  },
  {
   "cell_type": "code",
   "execution_count": 42,
   "metadata": {},
   "outputs": [
    {
     "data": {
      "text/plain": [
       "array([[[2.53521113e+01, 2.53521113e+01, 2.53448601e+01, 2.53448601e+01,\n",
       "         5.00000000e+03],\n",
       "        [2.53883549e+01, 2.55913448e+01, 2.53883549e+01, 2.55913448e+01,\n",
       "         1.33000000e+05],\n",
       "        [2.56638421e+01, 2.57000899e+01, 2.56275915e+01, 2.56783390e+01,\n",
       "         8.00000000e+03],\n",
       "        ...,\n",
       "        [2.71282749e+01, 2.71282749e+01, 2.71282749e+01, 2.71282749e+01,\n",
       "         1.00000000e+03],\n",
       "        [2.71282768e+01, 2.71862755e+01, 2.71282768e+01, 2.71862755e+01,\n",
       "         5.10000000e+04],\n",
       "        [2.70557766e+01, 2.70557766e+01, 2.64613037e+01, 2.64613037e+01,\n",
       "         1.20000000e+04]],\n",
       "\n",
       "       [[2.53883549e+01, 2.55913448e+01, 2.53883549e+01, 2.55913448e+01,\n",
       "         1.33000000e+05],\n",
       "        [2.56638421e+01, 2.57000899e+01, 2.56275915e+01, 2.56783390e+01,\n",
       "         8.00000000e+03],\n",
       "        [2.57870846e+01, 2.57870846e+01, 2.57870846e+01, 2.57870846e+01,\n",
       "         1.00000000e+03],\n",
       "        ...,\n",
       "        [2.71282768e+01, 2.71862755e+01, 2.71282768e+01, 2.71862755e+01,\n",
       "         5.10000000e+04],\n",
       "        [2.70557766e+01, 2.70557766e+01, 2.64613037e+01, 2.64613037e+01,\n",
       "         1.20000000e+04],\n",
       "        [2.68165436e+01, 2.68165436e+01, 2.68165436e+01, 2.68165436e+01,\n",
       "         0.00000000e+00]],\n",
       "\n",
       "       [[2.56638421e+01, 2.57000899e+01, 2.56275915e+01, 2.56783390e+01,\n",
       "         8.00000000e+03],\n",
       "        [2.57870846e+01, 2.57870846e+01, 2.57870846e+01, 2.57870846e+01,\n",
       "         1.00000000e+03],\n",
       "        [2.58015823e+01, 2.58305817e+01, 2.57943339e+01, 2.58305817e+01,\n",
       "         1.10000000e+04],\n",
       "        ...,\n",
       "        [2.70557766e+01, 2.70557766e+01, 2.64613037e+01, 2.64613037e+01,\n",
       "         1.20000000e+04],\n",
       "        [2.68165436e+01, 2.68165436e+01, 2.68165436e+01, 2.68165436e+01,\n",
       "         0.00000000e+00],\n",
       "        [2.66135456e+01, 2.66135456e+01, 2.64830513e+01, 2.64830513e+01,\n",
       "         2.00000000e+03]],\n",
       "\n",
       "       ...,\n",
       "\n",
       "       [[7.46999969e+01, 7.49000015e+01, 7.45500031e+01, 7.48000031e+01,\n",
       "         1.77954600e+06],\n",
       "        [7.51999969e+01, 7.53000031e+01, 7.48499985e+01, 7.49499969e+01,\n",
       "         2.05590600e+06],\n",
       "        [7.50500031e+01, 7.51500015e+01, 7.49499969e+01, 7.50500031e+01,\n",
       "         2.27742400e+06],\n",
       "        ...,\n",
       "        [9.44499969e+01, 9.49499969e+01, 9.40500031e+01, 9.47500000e+01,\n",
       "         2.78791300e+06],\n",
       "        [9.56500015e+01, 9.60000000e+01, 9.53499985e+01, 9.54000015e+01,\n",
       "         4.50917300e+06],\n",
       "        [9.53000031e+01, 9.61500015e+01, 9.51999969e+01, 9.61500015e+01,\n",
       "         2.69074300e+06]],\n",
       "\n",
       "       [[7.51999969e+01, 7.53000031e+01, 7.48499985e+01, 7.49499969e+01,\n",
       "         2.05590600e+06],\n",
       "        [7.50500031e+01, 7.51500015e+01, 7.49499969e+01, 7.50500031e+01,\n",
       "         2.27742400e+06],\n",
       "        [7.56999969e+01, 7.60000000e+01, 7.55500031e+01, 7.58000031e+01,\n",
       "         7.17910500e+06],\n",
       "        ...,\n",
       "        [9.56500015e+01, 9.60000000e+01, 9.53499985e+01, 9.54000015e+01,\n",
       "         4.50917300e+06],\n",
       "        [9.53000031e+01, 9.61500015e+01, 9.51999969e+01, 9.61500015e+01,\n",
       "         2.69074300e+06],\n",
       "        [9.66500015e+01, 9.81999969e+01, 9.66500015e+01, 9.75000000e+01,\n",
       "         4.23241500e+06]],\n",
       "\n",
       "       [[7.50500031e+01, 7.51500015e+01, 7.49499969e+01, 7.50500031e+01,\n",
       "         2.27742400e+06],\n",
       "        [7.56999969e+01, 7.60000000e+01, 7.55500031e+01, 7.58000031e+01,\n",
       "         7.17910500e+06],\n",
       "        [7.61500015e+01, 7.63000031e+01, 7.59499969e+01, 7.60500031e+01,\n",
       "         7.67825900e+06],\n",
       "        ...,\n",
       "        [9.53000031e+01, 9.61500015e+01, 9.51999969e+01, 9.61500015e+01,\n",
       "         2.69074300e+06],\n",
       "        [9.66500015e+01, 9.81999969e+01, 9.66500015e+01, 9.75000000e+01,\n",
       "         4.23241500e+06],\n",
       "        [9.86999969e+01, 9.93000031e+01, 9.78499985e+01, 9.80999985e+01,\n",
       "         7.81235000e+06]]])"
      ]
     },
     "execution_count": 42,
     "metadata": {},
     "output_type": "execute_result"
    }
   ],
   "source": [
    "x"
   ]
  },
  {
   "cell_type": "code",
   "execution_count": 43,
   "metadata": {},
   "outputs": [
    {
     "data": {
      "text/plain": [
       "(2337,)"
      ]
     },
     "execution_count": 43,
     "metadata": {},
     "output_type": "execute_result"
    }
   ],
   "source": [
    "y.shape"
   ]
  },
  {
   "cell_type": "code",
   "execution_count": 44,
   "metadata": {},
   "outputs": [
    {
     "data": {
      "text/plain": [
       "array([0, 1, 1, ..., 0, 0, 1])"
      ]
     },
     "execution_count": 44,
     "metadata": {},
     "output_type": "execute_result"
    }
   ],
   "source": [
    "y"
   ]
  },
  {
   "cell_type": "markdown",
   "metadata": {},
   "source": [
    "# Split dataset to training/validation/test datasets"
   ]
  },
  {
   "cell_type": "code",
   "execution_count": 45,
   "metadata": {},
   "outputs": [],
   "source": [
    "TRAIN_SPLIT, VAL_SPLIT, TEST_SPLIT = 0.7, 0.2, 0.1\n",
    "\n",
    "test_split_index = -round(len(x) * TEST_SPLIT)\n",
    "x_other, x_test = np.split(x, [test_split_index])\n",
    "y_other, y_test = np.split(y, [test_split_index])\n",
    "\n",
    "train_split_index = round(len(x) * TRAIN_SPLIT)\n",
    "indexes = np.arange(len(x_other))\n",
    "np.random.shuffle(indexes)\n",
    "train_indexes, val_indexes = np.split(indexes, [train_split_index])\n",
    "x_train, x_val = x_other[train_indexes], x_other[val_indexes]\n",
    "y_train, y_val = y_other[train_indexes], y_other[val_indexes]"
   ]
  },
  {
   "cell_type": "code",
   "execution_count": 46,
   "metadata": {},
   "outputs": [
    {
     "data": {
      "text/html": [
       "<div>\n",
       "<style scoped>\n",
       "    .dataframe tbody tr th:only-of-type {\n",
       "        vertical-align: middle;\n",
       "    }\n",
       "\n",
       "    .dataframe tbody tr th {\n",
       "        vertical-align: top;\n",
       "    }\n",
       "\n",
       "    .dataframe thead th {\n",
       "        text-align: right;\n",
       "    }\n",
       "</style>\n",
       "<table border=\"1\" class=\"dataframe\">\n",
       "  <thead>\n",
       "    <tr style=\"text-align: right;\">\n",
       "      <th></th>\n",
       "      <th>Dataset</th>\n",
       "      <th>Bull</th>\n",
       "      <th>Bear</th>\n",
       "    </tr>\n",
       "  </thead>\n",
       "  <tbody>\n",
       "    <tr>\n",
       "      <th>0</th>\n",
       "      <td>train</td>\n",
       "      <td>820</td>\n",
       "      <td>816</td>\n",
       "    </tr>\n",
       "    <tr>\n",
       "      <th>1</th>\n",
       "      <td>val</td>\n",
       "      <td>221</td>\n",
       "      <td>246</td>\n",
       "    </tr>\n",
       "    <tr>\n",
       "      <th>2</th>\n",
       "      <td>test</td>\n",
       "      <td>107</td>\n",
       "      <td>107</td>\n",
       "    </tr>\n",
       "  </tbody>\n",
       "</table>\n",
       "</div>"
      ],
      "text/plain": [
       "  Dataset  Bull  Bear\n",
       "0   train   820   816\n",
       "1     val   221   246\n",
       "2    test   107   107"
      ]
     },
     "execution_count": 46,
     "metadata": {},
     "output_type": "execute_result"
    }
   ],
   "source": [
    "label_distribution = pd.DataFrame([\n",
    "                                {\"Dataset\": \"train\",\n",
    "                                    \"Bull\": np.count_nonzero(y_train == LABEL_BULL),\n",
    "                                    \"Bear\": np.count_nonzero(y_train == LABEL_BEAR)},\n",
    "                                {\"Dataset\": \"val\",\n",
    "                                    \"Bull\": np.count_nonzero(y_val == LABEL_BULL),\n",
    "                                    \"Bear\": np.count_nonzero(y_val == LABEL_BEAR)},\n",
    "                                {\"Dataset\": \"test\",\n",
    "                                    \"Bull\": np.count_nonzero(y_test == LABEL_BEAR),\n",
    "                                    \"Bear\": np.count_nonzero(y_test == LABEL_BEAR),}])\n",
    "\n",
    "label_distribution"
   ]
  },
  {
   "cell_type": "code",
   "execution_count": 47,
   "metadata": {},
   "outputs": [
    {
     "data": {
      "text/html": [
       "<div>\n",
       "<style scoped>\n",
       "    .dataframe tbody tr th:only-of-type {\n",
       "        vertical-align: middle;\n",
       "    }\n",
       "\n",
       "    .dataframe tbody tr th {\n",
       "        vertical-align: top;\n",
       "    }\n",
       "\n",
       "    .dataframe thead th {\n",
       "        text-align: right;\n",
       "    }\n",
       "</style>\n",
       "<table border=\"1\" class=\"dataframe\">\n",
       "  <thead>\n",
       "    <tr style=\"text-align: right;\">\n",
       "      <th></th>\n",
       "      <th>Dataset</th>\n",
       "      <th>Bull</th>\n",
       "      <th>Bear</th>\n",
       "    </tr>\n",
       "  </thead>\n",
       "  <tbody>\n",
       "    <tr>\n",
       "      <th>0</th>\n",
       "      <td>test</td>\n",
       "      <td>107</td>\n",
       "      <td>107</td>\n",
       "    </tr>\n",
       "  </tbody>\n",
       "</table>\n",
       "</div>"
      ],
      "text/plain": [
       "  Dataset  Bull  Bear\n",
       "0    test   107   107"
      ]
     },
     "execution_count": 47,
     "metadata": {},
     "output_type": "execute_result"
    }
   ],
   "source": [
    "x_test_bull = x_test[y_test == LABEL_BULL]\n",
    "x_test_bear = x_test[y_test == LABEL_BEAR]\n",
    "\n",
    "min_n_labels = min(len(x_test_bull), len(x_test_bear))\n",
    "\n",
    "x_test_bull = x_test_bull[np.random.choice(len(x_test_bull), min_n_labels, replace=False), :]\n",
    "x_test_bear = x_test_bear[np.random.choice(len(x_test_bear), min_n_labels, replace=False), :]\n",
    "x_test = np.vstack([x_test_bull, x_test_bear])\n",
    "\n",
    "y_test = np.array([LABEL_BULL] * min_n_labels + [LABEL_BEAR] * min_n_labels)\n",
    "\n",
    "pd.DataFrame([\n",
    "            {\"Dataset\": \"test\",\n",
    "                \"Bull\": np.count_nonzero(y_test == LABEL_BEAR),\n",
    "                \"Bear\": np.count_nonzero(y_test == LABEL_BEAR)}])"
   ]
  },
  {
   "cell_type": "code",
   "execution_count": 48,
   "metadata": {},
   "outputs": [
    {
     "data": {
      "text/plain": [
       "(1636, 100, 5)"
      ]
     },
     "execution_count": 48,
     "metadata": {},
     "output_type": "execute_result"
    }
   ],
   "source": [
    "x_train.shape"
   ]
  },
  {
   "cell_type": "code",
   "execution_count": 49,
   "metadata": {},
   "outputs": [
    {
     "data": {
      "text/plain": [
       "818500"
      ]
     },
     "execution_count": 49,
     "metadata": {},
     "output_type": "execute_result"
    }
   ],
   "source": [
    "1637 * 100 * 5"
   ]
  },
  {
   "cell_type": "markdown",
   "metadata": {},
   "source": [
    "# Save datasets"
   ]
  },
  {
   "cell_type": "code",
   "execution_count": 50,
   "metadata": {},
   "outputs": [],
   "source": [
    "np.savez(\"datasets.npz\", x_train = x_train, y_train = y_train, x_val = x_val, y_val = y_val, \n",
    "         x_test = x_test, y_test = y_test)"
   ]
  },
  {
   "cell_type": "markdown",
   "metadata": {},
   "source": [
    "# Construct model"
   ]
  },
  {
   "cell_type": "code",
   "execution_count": 51,
   "metadata": {},
   "outputs": [
    {
     "data": {
      "text/html": [
       "<pre style=\"white-space:pre;overflow-x:auto;line-height:normal;font-family:Menlo,'DejaVu Sans Mono',consolas,'Courier New',monospace\"><span style=\"font-weight: bold\">Model: \"functional_5\"</span>\n",
       "</pre>\n"
      ],
      "text/plain": [
       "\u001b[1mModel: \"functional_5\"\u001b[0m\n"
      ]
     },
     "metadata": {},
     "output_type": "display_data"
    },
    {
     "data": {
      "text/html": [
       "<pre style=\"white-space:pre;overflow-x:auto;line-height:normal;font-family:Menlo,'DejaVu Sans Mono',consolas,'Courier New',monospace\">┏━━━━━━━━━━━━━━━━━━━━━━━━━━━━━━━━━┳━━━━━━━━━━━━━━━━━━━━━━━━┳━━━━━━━━━━━━━━━┓\n",
       "┃<span style=\"font-weight: bold\"> Layer (type)                    </span>┃<span style=\"font-weight: bold\"> Output Shape           </span>┃<span style=\"font-weight: bold\">       Param # </span>┃\n",
       "┡━━━━━━━━━━━━━━━━━━━━━━━━━━━━━━━━━╇━━━━━━━━━━━━━━━━━━━━━━━━╇━━━━━━━━━━━━━━━┩\n",
       "│ input_layer_2 (<span style=\"color: #0087ff; text-decoration-color: #0087ff\">InputLayer</span>)      │ (<span style=\"color: #00d7ff; text-decoration-color: #00d7ff\">None</span>, <span style=\"color: #00af00; text-decoration-color: #00af00\">100</span>, <span style=\"color: #00af00; text-decoration-color: #00af00\">5</span>)         │             <span style=\"color: #00af00; text-decoration-color: #00af00\">0</span> │\n",
       "├─────────────────────────────────┼────────────────────────┼───────────────┤\n",
       "│ lstm_4 (<span style=\"color: #0087ff; text-decoration-color: #0087ff\">LSTM</span>)                   │ (<span style=\"color: #00d7ff; text-decoration-color: #00d7ff\">None</span>, <span style=\"color: #00af00; text-decoration-color: #00af00\">100</span>, <span style=\"color: #00af00; text-decoration-color: #00af00\">256</span>)       │       <span style=\"color: #00af00; text-decoration-color: #00af00\">268,288</span> │\n",
       "├─────────────────────────────────┼────────────────────────┼───────────────┤\n",
       "│ lstm_5 (<span style=\"color: #0087ff; text-decoration-color: #0087ff\">LSTM</span>)                   │ (<span style=\"color: #00d7ff; text-decoration-color: #00d7ff\">None</span>, <span style=\"color: #00af00; text-decoration-color: #00af00\">256</span>)            │       <span style=\"color: #00af00; text-decoration-color: #00af00\">525,312</span> │\n",
       "├─────────────────────────────────┼────────────────────────┼───────────────┤\n",
       "│ dense_2 (<span style=\"color: #0087ff; text-decoration-color: #0087ff\">Dense</span>)                 │ (<span style=\"color: #00d7ff; text-decoration-color: #00d7ff\">None</span>, <span style=\"color: #00af00; text-decoration-color: #00af00\">2</span>)              │           <span style=\"color: #00af00; text-decoration-color: #00af00\">514</span> │\n",
       "└─────────────────────────────────┴────────────────────────┴───────────────┘\n",
       "</pre>\n"
      ],
      "text/plain": [
       "┏━━━━━━━━━━━━━━━━━━━━━━━━━━━━━━━━━┳━━━━━━━━━━━━━━━━━━━━━━━━┳━━━━━━━━━━━━━━━┓\n",
       "┃\u001b[1m \u001b[0m\u001b[1mLayer (type)                   \u001b[0m\u001b[1m \u001b[0m┃\u001b[1m \u001b[0m\u001b[1mOutput Shape          \u001b[0m\u001b[1m \u001b[0m┃\u001b[1m \u001b[0m\u001b[1m      Param #\u001b[0m\u001b[1m \u001b[0m┃\n",
       "┡━━━━━━━━━━━━━━━━━━━━━━━━━━━━━━━━━╇━━━━━━━━━━━━━━━━━━━━━━━━╇━━━━━━━━━━━━━━━┩\n",
       "│ input_layer_2 (\u001b[38;5;33mInputLayer\u001b[0m)      │ (\u001b[38;5;45mNone\u001b[0m, \u001b[38;5;34m100\u001b[0m, \u001b[38;5;34m5\u001b[0m)         │             \u001b[38;5;34m0\u001b[0m │\n",
       "├─────────────────────────────────┼────────────────────────┼───────────────┤\n",
       "│ lstm_4 (\u001b[38;5;33mLSTM\u001b[0m)                   │ (\u001b[38;5;45mNone\u001b[0m, \u001b[38;5;34m100\u001b[0m, \u001b[38;5;34m256\u001b[0m)       │       \u001b[38;5;34m268,288\u001b[0m │\n",
       "├─────────────────────────────────┼────────────────────────┼───────────────┤\n",
       "│ lstm_5 (\u001b[38;5;33mLSTM\u001b[0m)                   │ (\u001b[38;5;45mNone\u001b[0m, \u001b[38;5;34m256\u001b[0m)            │       \u001b[38;5;34m525,312\u001b[0m │\n",
       "├─────────────────────────────────┼────────────────────────┼───────────────┤\n",
       "│ dense_2 (\u001b[38;5;33mDense\u001b[0m)                 │ (\u001b[38;5;45mNone\u001b[0m, \u001b[38;5;34m2\u001b[0m)              │           \u001b[38;5;34m514\u001b[0m │\n",
       "└─────────────────────────────────┴────────────────────────┴───────────────┘\n"
      ]
     },
     "metadata": {},
     "output_type": "display_data"
    },
    {
     "data": {
      "text/html": [
       "<pre style=\"white-space:pre;overflow-x:auto;line-height:normal;font-family:Menlo,'DejaVu Sans Mono',consolas,'Courier New',monospace\"><span style=\"font-weight: bold\"> Total params: </span><span style=\"color: #00af00; text-decoration-color: #00af00\">794,114</span> (3.03 MB)\n",
       "</pre>\n"
      ],
      "text/plain": [
       "\u001b[1m Total params: \u001b[0m\u001b[38;5;34m794,114\u001b[0m (3.03 MB)\n"
      ]
     },
     "metadata": {},
     "output_type": "display_data"
    },
    {
     "data": {
      "text/html": [
       "<pre style=\"white-space:pre;overflow-x:auto;line-height:normal;font-family:Menlo,'DejaVu Sans Mono',consolas,'Courier New',monospace\"><span style=\"font-weight: bold\"> Trainable params: </span><span style=\"color: #00af00; text-decoration-color: #00af00\">794,114</span> (3.03 MB)\n",
       "</pre>\n"
      ],
      "text/plain": [
       "\u001b[1m Trainable params: \u001b[0m\u001b[38;5;34m794,114\u001b[0m (3.03 MB)\n"
      ]
     },
     "metadata": {},
     "output_type": "display_data"
    },
    {
     "data": {
      "text/html": [
       "<pre style=\"white-space:pre;overflow-x:auto;line-height:normal;font-family:Menlo,'DejaVu Sans Mono',consolas,'Courier New',monospace\"><span style=\"font-weight: bold\"> Non-trainable params: </span><span style=\"color: #00af00; text-decoration-color: #00af00\">0</span> (0.00 B)\n",
       "</pre>\n"
      ],
      "text/plain": [
       "\u001b[1m Non-trainable params: \u001b[0m\u001b[38;5;34m0\u001b[0m (0.00 B)\n"
      ]
     },
     "metadata": {},
     "output_type": "display_data"
    }
   ],
   "source": [
    "from tensorflow.keras.layers import Input, Dense, LSTM\n",
    "from tensorflow.keras.models import Model\n",
    "\n",
    "n_time_steps = x_train.shape[1]\n",
    "n_features = x_train.shape[2]\n",
    "\n",
    "input_layer = Input(shape = (n_time_steps, n_features))\n",
    "x = LSTM(units=256, return_sequences=True)(input_layer)\n",
    "x = LSTM(units=256, return_sequences=False)(x)\n",
    "output_layer = Dense(len(CLASSES), activation=\"softmax\")(x)\n",
    "\n",
    "model = Model(inputs = input_layer, outputs = output_layer)\n",
    "\n",
    "model.summary()"
   ]
  },
  {
   "cell_type": "markdown",
   "metadata": {},
   "source": [
    "# Train model"
   ]
  },
  {
   "cell_type": "code",
   "execution_count": 52,
   "metadata": {},
   "outputs": [
    {
     "name": "stdout",
     "output_type": "stream",
     "text": [
      "Epoch 1/100\n"
     ]
    },
    {
     "name": "stdout",
     "output_type": "stream",
     "text": [
      "\u001b[1m1/1\u001b[0m \u001b[32m━━━━━━━━━━━━━━━━━━━━\u001b[0m\u001b[37m\u001b[0m \u001b[1m9s\u001b[0m 9s/step - accuracy: 0.4902 - loss: 0.7206 - val_accuracy: 0.4732 - val_loss: 1.4268\n",
      "Epoch 2/100\n",
      "\u001b[1m1/1\u001b[0m \u001b[32m━━━━━━━━━━━━━━━━━━━━\u001b[0m\u001b[37m\u001b[0m \u001b[1m4s\u001b[0m 4s/step - accuracy: 0.5012 - loss: 1.3542 - val_accuracy: 0.4754 - val_loss: 0.8101\n",
      "Epoch 3/100\n",
      "\u001b[1m1/1\u001b[0m \u001b[32m━━━━━━━━━━━━━━━━━━━━\u001b[0m\u001b[37m\u001b[0m \u001b[1m5s\u001b[0m 5s/step - accuracy: 0.5043 - loss: 0.7899 - val_accuracy: 0.5268 - val_loss: 0.7369\n",
      "Epoch 4/100\n",
      "\u001b[1m1/1\u001b[0m \u001b[32m━━━━━━━━━━━━━━━━━━━━\u001b[0m\u001b[37m\u001b[0m \u001b[1m5s\u001b[0m 5s/step - accuracy: 0.4988 - loss: 0.7653 - val_accuracy: 0.5268 - val_loss: 0.8167\n",
      "Epoch 5/100\n",
      "\u001b[1m1/1\u001b[0m \u001b[32m━━━━━━━━━━━━━━━━━━━━\u001b[0m\u001b[37m\u001b[0m \u001b[1m5s\u001b[0m 5s/step - accuracy: 0.4988 - loss: 0.8593 - val_accuracy: 0.5268 - val_loss: 0.7656\n",
      "Epoch 6/100\n",
      "\u001b[1m1/1\u001b[0m \u001b[32m━━━━━━━━━━━━━━━━━━━━\u001b[0m\u001b[37m\u001b[0m \u001b[1m5s\u001b[0m 5s/step - accuracy: 0.4988 - loss: 0.8022 - val_accuracy: 0.5268 - val_loss: 0.6972\n",
      "Epoch 7/100\n",
      "\u001b[1m1/1\u001b[0m \u001b[32m━━━━━━━━━━━━━━━━━━━━\u001b[0m\u001b[37m\u001b[0m \u001b[1m5s\u001b[0m 5s/step - accuracy: 0.4988 - loss: 0.7191 - val_accuracy: 0.5268 - val_loss: 0.6840\n",
      "Epoch 8/100\n",
      "\u001b[1m1/1\u001b[0m \u001b[32m━━━━━━━━━━━━━━━━━━━━\u001b[0m\u001b[37m\u001b[0m \u001b[1m5s\u001b[0m 5s/step - accuracy: 0.5251 - loss: 0.6895 - val_accuracy: 0.4732 - val_loss: 0.7194\n",
      "Epoch 9/100\n",
      "\u001b[1m1/1\u001b[0m \u001b[32m━━━━━━━━━━━━━━━━━━━━\u001b[0m\u001b[37m\u001b[0m \u001b[1m4s\u001b[0m 4s/step - accuracy: 0.5012 - loss: 0.7117 - val_accuracy: 0.4732 - val_loss: 0.7501\n",
      "Epoch 10/100\n",
      "\u001b[1m1/1\u001b[0m \u001b[32m━━━━━━━━━━━━━━━━━━━━\u001b[0m\u001b[37m\u001b[0m \u001b[1m4s\u001b[0m 4s/step - accuracy: 0.5012 - loss: 0.7359 - val_accuracy: 0.4732 - val_loss: 0.7502\n",
      "Epoch 11/100\n",
      "\u001b[1m1/1\u001b[0m \u001b[32m━━━━━━━━━━━━━━━━━━━━\u001b[0m\u001b[37m\u001b[0m \u001b[1m4s\u001b[0m 4s/step - accuracy: 0.5012 - loss: 0.7355 - val_accuracy: 0.4732 - val_loss: 0.7293\n",
      "Epoch 12/100\n",
      "\u001b[1m1/1\u001b[0m \u001b[32m━━━━━━━━━━━━━━━━━━━━\u001b[0m\u001b[37m\u001b[0m \u001b[1m5s\u001b[0m 5s/step - accuracy: 0.5012 - loss: 0.7184 - val_accuracy: 0.4839 - val_loss: 0.7053\n",
      "Epoch 13/100\n",
      "\u001b[1m1/1\u001b[0m \u001b[32m━━━━━━━━━━━━━━━━━━━━\u001b[0m\u001b[37m\u001b[0m \u001b[1m5s\u001b[0m 5s/step - accuracy: 0.5061 - loss: 0.7001 - val_accuracy: 0.5203 - val_loss: 0.6889\n",
      "Epoch 14/100\n",
      "\u001b[1m1/1\u001b[0m \u001b[32m━━━━━━━━━━━━━━━━━━━━\u001b[0m\u001b[37m\u001b[0m \u001b[1m4s\u001b[0m 4s/step - accuracy: 0.5177 - loss: 0.6899 - val_accuracy: 0.5289 - val_loss: 0.6828\n",
      "Epoch 15/100\n",
      "\u001b[1m1/1\u001b[0m \u001b[32m━━━━━━━━━━━━━━━━━━━━\u001b[0m\u001b[37m\u001b[0m \u001b[1m4s\u001b[0m 4s/step - accuracy: 0.5385 - loss: 0.6896 - val_accuracy: 0.5439 - val_loss: 0.6837\n",
      "Epoch 16/100\n",
      "\u001b[1m1/1\u001b[0m \u001b[32m━━━━━━━━━━━━━━━━━━━━\u001b[0m\u001b[37m\u001b[0m \u001b[1m4s\u001b[0m 4s/step - accuracy: 0.5098 - loss: 0.6951 - val_accuracy: 0.5375 - val_loss: 0.6863\n",
      "Epoch 17/100\n",
      "\u001b[1m1/1\u001b[0m \u001b[32m━━━━━━━━━━━━━━━━━━━━\u001b[0m\u001b[37m\u001b[0m \u001b[1m4s\u001b[0m 4s/step - accuracy: 0.5073 - loss: 0.7007 - val_accuracy: 0.5418 - val_loss: 0.6872\n",
      "Epoch 18/100\n",
      "\u001b[1m1/1\u001b[0m \u001b[32m━━━━━━━━━━━━━━━━━━━━\u001b[0m\u001b[37m\u001b[0m \u001b[1m4s\u001b[0m 4s/step - accuracy: 0.5061 - loss: 0.7028 - val_accuracy: 0.5396 - val_loss: 0.6855\n",
      "Epoch 19/100\n",
      "\u001b[1m1/1\u001b[0m \u001b[32m━━━━━━━━━━━━━━━━━━━━\u001b[0m\u001b[37m\u001b[0m \u001b[1m4s\u001b[0m 4s/step - accuracy: 0.5049 - loss: 0.7006 - val_accuracy: 0.5439 - val_loss: 0.6825\n",
      "Epoch 20/100\n",
      "\u001b[1m1/1\u001b[0m \u001b[32m━━━━━━━━━━━━━━━━━━━━\u001b[0m\u001b[37m\u001b[0m \u001b[1m5s\u001b[0m 5s/step - accuracy: 0.5086 - loss: 0.6961 - val_accuracy: 0.5439 - val_loss: 0.6798\n",
      "Epoch 21/100\n",
      "\u001b[1m1/1\u001b[0m \u001b[32m━━━━━━━━━━━━━━━━━━━━\u001b[0m\u001b[37m\u001b[0m \u001b[1m5s\u001b[0m 5s/step - accuracy: 0.5159 - loss: 0.6913 - val_accuracy: 0.5353 - val_loss: 0.6790\n",
      "Epoch 22/100\n",
      "\u001b[1m1/1\u001b[0m \u001b[32m━━━━━━━━━━━━━━━━━━━━\u001b[0m\u001b[37m\u001b[0m \u001b[1m5s\u001b[0m 5s/step - accuracy: 0.5416 - loss: 0.6880 - val_accuracy: 0.5418 - val_loss: 0.6803\n",
      "Epoch 23/100\n",
      "\u001b[1m1/1\u001b[0m \u001b[32m━━━━━━━━━━━━━━━━━━━━\u001b[0m\u001b[37m\u001b[0m \u001b[1m4s\u001b[0m 4s/step - accuracy: 0.5269 - loss: 0.6869 - val_accuracy: 0.5289 - val_loss: 0.6831\n",
      "Epoch 24/100\n",
      "\u001b[1m1/1\u001b[0m \u001b[32m━━━━━━━━━━━━━━━━━━━━\u001b[0m\u001b[37m\u001b[0m \u001b[1m4s\u001b[0m 4s/step - accuracy: 0.5251 - loss: 0.6877 - val_accuracy: 0.5289 - val_loss: 0.6863\n",
      "Epoch 25/100\n",
      "\u001b[1m1/1\u001b[0m \u001b[32m━━━━━━━━━━━━━━━━━━━━\u001b[0m\u001b[37m\u001b[0m \u001b[1m5s\u001b[0m 5s/step - accuracy: 0.5251 - loss: 0.6893 - val_accuracy: 0.5289 - val_loss: 0.6886\n",
      "Epoch 26/100\n",
      "\u001b[1m1/1\u001b[0m \u001b[32m━━━━━━━━━━━━━━━━━━━━\u001b[0m\u001b[37m\u001b[0m \u001b[1m4s\u001b[0m 4s/step - accuracy: 0.5251 - loss: 0.6908 - val_accuracy: 0.5289 - val_loss: 0.6895\n",
      "Epoch 27/100\n",
      "\u001b[1m1/1\u001b[0m \u001b[32m━━━━━━━━━━━━━━━━━━━━\u001b[0m\u001b[37m\u001b[0m \u001b[1m4s\u001b[0m 4s/step - accuracy: 0.5251 - loss: 0.6914 - val_accuracy: 0.5289 - val_loss: 0.6885\n",
      "Epoch 28/100\n",
      "\u001b[1m1/1\u001b[0m \u001b[32m━━━━━━━━━━━━━━━━━━━━\u001b[0m\u001b[37m\u001b[0m \u001b[1m4s\u001b[0m 4s/step - accuracy: 0.5251 - loss: 0.6907 - val_accuracy: 0.5289 - val_loss: 0.6862\n",
      "Epoch 29/100\n",
      "\u001b[1m1/1\u001b[0m \u001b[32m━━━━━━━━━━━━━━━━━━━━\u001b[0m\u001b[37m\u001b[0m \u001b[1m4s\u001b[0m 4s/step - accuracy: 0.5251 - loss: 0.6892 - val_accuracy: 0.5289 - val_loss: 0.6831\n",
      "Epoch 30/100\n",
      "\u001b[1m1/1\u001b[0m \u001b[32m━━━━━━━━━━━━━━━━━━━━\u001b[0m\u001b[37m\u001b[0m \u001b[1m4s\u001b[0m 4s/step - accuracy: 0.5251 - loss: 0.6874 - val_accuracy: 0.5289 - val_loss: 0.6803\n",
      "Epoch 31/100\n",
      "\u001b[1m1/1\u001b[0m \u001b[32m━━━━━━━━━━━━━━━━━━━━\u001b[0m\u001b[37m\u001b[0m \u001b[1m4s\u001b[0m 4s/step - accuracy: 0.5251 - loss: 0.6861 - val_accuracy: 0.5353 - val_loss: 0.6782\n",
      "Epoch 32/100\n",
      "\u001b[1m1/1\u001b[0m \u001b[32m━━━━━━━━━━━━━━━━━━━━\u001b[0m\u001b[37m\u001b[0m \u001b[1m5s\u001b[0m 5s/step - accuracy: 0.5361 - loss: 0.6856 - val_accuracy: 0.5289 - val_loss: 0.6770\n",
      "Epoch 33/100\n",
      "\u001b[1m1/1\u001b[0m \u001b[32m━━━━━━━━━━━━━━━━━━━━\u001b[0m\u001b[37m\u001b[0m \u001b[1m5s\u001b[0m 5s/step - accuracy: 0.5422 - loss: 0.6856 - val_accuracy: 0.5353 - val_loss: 0.6765\n",
      "Epoch 34/100\n",
      "\u001b[1m1/1\u001b[0m \u001b[32m━━━━━━━━━━━━━━━━━━━━\u001b[0m\u001b[37m\u001b[0m \u001b[1m5s\u001b[0m 5s/step - accuracy: 0.5440 - loss: 0.6859 - val_accuracy: 0.5396 - val_loss: 0.6763\n",
      "Epoch 35/100\n",
      "\u001b[1m1/1\u001b[0m \u001b[32m━━━━━━━━━━━━━━━━━━━━\u001b[0m\u001b[37m\u001b[0m \u001b[1m4s\u001b[0m 4s/step - accuracy: 0.5379 - loss: 0.6861 - val_accuracy: 0.5396 - val_loss: 0.6764\n",
      "Epoch 36/100\n",
      "\u001b[1m1/1\u001b[0m \u001b[32m━━━━━━━━━━━━━━━━━━━━\u001b[0m\u001b[37m\u001b[0m \u001b[1m4s\u001b[0m 4s/step - accuracy: 0.5355 - loss: 0.6861 - val_accuracy: 0.5332 - val_loss: 0.6767\n",
      "Epoch 37/100\n",
      "\u001b[1m1/1\u001b[0m \u001b[32m━━━━━━━━━━━━━━━━━━━━\u001b[0m\u001b[37m\u001b[0m \u001b[1m4s\u001b[0m 4s/step - accuracy: 0.5458 - loss: 0.6856 - val_accuracy: 0.5353 - val_loss: 0.6770\n",
      "Epoch 38/100\n",
      "\u001b[1m1/1\u001b[0m \u001b[32m━━━━━━━━━━━━━━━━━━━━\u001b[0m\u001b[37m\u001b[0m \u001b[1m5s\u001b[0m 5s/step - accuracy: 0.5465 - loss: 0.6849 - val_accuracy: 0.5310 - val_loss: 0.6776\n",
      "Epoch 39/100\n",
      "\u001b[1m1/1\u001b[0m \u001b[32m━━━━━━━━━━━━━━━━━━━━\u001b[0m\u001b[37m\u001b[0m \u001b[1m4s\u001b[0m 4s/step - accuracy: 0.5361 - loss: 0.6844 - val_accuracy: 0.5332 - val_loss: 0.6783\n",
      "Epoch 40/100\n",
      "\u001b[1m1/1\u001b[0m \u001b[32m━━━━━━━━━━━━━━━━━━━━\u001b[0m\u001b[37m\u001b[0m \u001b[1m4s\u001b[0m 4s/step - accuracy: 0.5336 - loss: 0.6840 - val_accuracy: 0.5289 - val_loss: 0.6791\n",
      "Epoch 41/100\n",
      "\u001b[1m1/1\u001b[0m \u001b[32m━━━━━━━━━━━━━━━━━━━━\u001b[0m\u001b[37m\u001b[0m \u001b[1m5s\u001b[0m 5s/step - accuracy: 0.5373 - loss: 0.6838 - val_accuracy: 0.5268 - val_loss: 0.6799\n",
      "Epoch 42/100\n",
      "\u001b[1m1/1\u001b[0m \u001b[32m━━━━━━━━━━━━━━━━━━━━\u001b[0m\u001b[37m\u001b[0m \u001b[1m5s\u001b[0m 5s/step - accuracy: 0.5397 - loss: 0.6836 - val_accuracy: 0.5289 - val_loss: 0.6804\n",
      "Epoch 43/100\n",
      "\u001b[1m1/1\u001b[0m \u001b[32m━━━━━━━━━━━━━━━━━━━━\u001b[0m\u001b[37m\u001b[0m \u001b[1m5s\u001b[0m 5s/step - accuracy: 0.5361 - loss: 0.6835 - val_accuracy: 0.5310 - val_loss: 0.6807\n",
      "Epoch 44/100\n",
      "\u001b[1m1/1\u001b[0m \u001b[32m━━━━━━━━━━━━━━━━━━━━\u001b[0m\u001b[37m\u001b[0m \u001b[1m5s\u001b[0m 5s/step - accuracy: 0.5348 - loss: 0.6833 - val_accuracy: 0.5310 - val_loss: 0.6808\n",
      "Epoch 45/100\n",
      "\u001b[1m1/1\u001b[0m \u001b[32m━━━━━━━━━━━━━━━━━━━━\u001b[0m\u001b[37m\u001b[0m \u001b[1m4s\u001b[0m 4s/step - accuracy: 0.5355 - loss: 0.6831 - val_accuracy: 0.5289 - val_loss: 0.6806\n",
      "Epoch 46/100\n",
      "\u001b[1m1/1\u001b[0m \u001b[32m━━━━━━━━━━━━━━━━━━━━\u001b[0m\u001b[37m\u001b[0m \u001b[1m4s\u001b[0m 4s/step - accuracy: 0.5385 - loss: 0.6828 - val_accuracy: 0.5268 - val_loss: 0.6801\n",
      "Epoch 47/100\n",
      "\u001b[1m1/1\u001b[0m \u001b[32m━━━━━━━━━━━━━━━━━━━━\u001b[0m\u001b[37m\u001b[0m \u001b[1m4s\u001b[0m 4s/step - accuracy: 0.5397 - loss: 0.6825 - val_accuracy: 0.5268 - val_loss: 0.6796\n",
      "Epoch 48/100\n",
      "\u001b[1m1/1\u001b[0m \u001b[32m━━━━━━━━━━━━━━━━━━━━\u001b[0m\u001b[37m\u001b[0m \u001b[1m4s\u001b[0m 4s/step - accuracy: 0.5385 - loss: 0.6822 - val_accuracy: 0.5375 - val_loss: 0.6791\n",
      "Epoch 49/100\n",
      "\u001b[1m1/1\u001b[0m \u001b[32m━━━━━━━━━━━━━━━━━━━━\u001b[0m\u001b[37m\u001b[0m \u001b[1m4s\u001b[0m 4s/step - accuracy: 0.5379 - loss: 0.6819 - val_accuracy: 0.5439 - val_loss: 0.6787\n",
      "Epoch 50/100\n",
      "\u001b[1m1/1\u001b[0m \u001b[32m━━━━━━━━━━━━━━━━━━━━\u001b[0m\u001b[37m\u001b[0m \u001b[1m4s\u001b[0m 4s/step - accuracy: 0.5428 - loss: 0.6817 - val_accuracy: 0.5375 - val_loss: 0.6785\n",
      "Epoch 51/100\n",
      "\u001b[1m1/1\u001b[0m \u001b[32m━━━━━━━━━━━━━━━━━━━━\u001b[0m\u001b[37m\u001b[0m \u001b[1m5s\u001b[0m 5s/step - accuracy: 0.5446 - loss: 0.6815 - val_accuracy: 0.5396 - val_loss: 0.6784\n",
      "Epoch 52/100\n",
      "\u001b[1m1/1\u001b[0m \u001b[32m━━━━━━━━━━━━━━━━━━━━\u001b[0m\u001b[37m\u001b[0m \u001b[1m5s\u001b[0m 5s/step - accuracy: 0.5440 - loss: 0.6813 - val_accuracy: 0.5439 - val_loss: 0.6785\n",
      "Epoch 53/100\n",
      "\u001b[1m1/1\u001b[0m \u001b[32m━━━━━━━━━━━━━━━━━━━━\u001b[0m\u001b[37m\u001b[0m \u001b[1m5s\u001b[0m 5s/step - accuracy: 0.5434 - loss: 0.6810 - val_accuracy: 0.5439 - val_loss: 0.6788\n",
      "Epoch 54/100\n",
      "\u001b[1m1/1\u001b[0m \u001b[32m━━━━━━━━━━━━━━━━━━━━\u001b[0m\u001b[37m\u001b[0m \u001b[1m4s\u001b[0m 4s/step - accuracy: 0.5397 - loss: 0.6807 - val_accuracy: 0.5439 - val_loss: 0.6791\n",
      "Epoch 55/100\n",
      "\u001b[1m1/1\u001b[0m \u001b[32m━━━━━━━━━━━━━━━━━━━━\u001b[0m\u001b[37m\u001b[0m \u001b[1m5s\u001b[0m 5s/step - accuracy: 0.5422 - loss: 0.6804 - val_accuracy: 0.5396 - val_loss: 0.6795\n",
      "Epoch 56/100\n",
      "\u001b[1m1/1\u001b[0m \u001b[32m━━━━━━━━━━━━━━━━━━━━\u001b[0m\u001b[37m\u001b[0m \u001b[1m5s\u001b[0m 5s/step - accuracy: 0.5361 - loss: 0.6801 - val_accuracy: 0.5332 - val_loss: 0.6799\n",
      "Epoch 57/100\n",
      "\u001b[1m1/1\u001b[0m \u001b[32m━━━━━━━━━━━━━━━━━━━━\u001b[0m\u001b[37m\u001b[0m \u001b[1m4s\u001b[0m 4s/step - accuracy: 0.5391 - loss: 0.6798 - val_accuracy: 0.5332 - val_loss: 0.6803\n",
      "Epoch 58/100\n",
      "\u001b[1m1/1\u001b[0m \u001b[32m━━━━━━━━━━━━━━━━━━━━\u001b[0m\u001b[37m\u001b[0m \u001b[1m4s\u001b[0m 4s/step - accuracy: 0.5416 - loss: 0.6795 - val_accuracy: 0.5332 - val_loss: 0.6805\n",
      "Epoch 59/100\n",
      "\u001b[1m1/1\u001b[0m \u001b[32m━━━━━━━━━━━━━━━━━━━━\u001b[0m\u001b[37m\u001b[0m \u001b[1m4s\u001b[0m 4s/step - accuracy: 0.5446 - loss: 0.6792 - val_accuracy: 0.5310 - val_loss: 0.6805\n",
      "Epoch 60/100\n",
      "\u001b[1m1/1\u001b[0m \u001b[32m━━━━━━━━━━━━━━━━━━━━\u001b[0m\u001b[37m\u001b[0m \u001b[1m4s\u001b[0m 4s/step - accuracy: 0.5446 - loss: 0.6789 - val_accuracy: 0.5289 - val_loss: 0.6805\n",
      "Epoch 61/100\n",
      "\u001b[1m1/1\u001b[0m \u001b[32m━━━━━━━━━━━━━━━━━━━━\u001b[0m\u001b[37m\u001b[0m \u001b[1m4s\u001b[0m 4s/step - accuracy: 0.5458 - loss: 0.6785 - val_accuracy: 0.5310 - val_loss: 0.6805\n",
      "Epoch 62/100\n",
      "\u001b[1m1/1\u001b[0m \u001b[32m━━━━━━━━━━━━━━━━━━━━\u001b[0m\u001b[37m\u001b[0m \u001b[1m4s\u001b[0m 4s/step - accuracy: 0.5477 - loss: 0.6782 - val_accuracy: 0.5396 - val_loss: 0.6804\n",
      "Epoch 63/100\n",
      "\u001b[1m1/1\u001b[0m \u001b[32m━━━━━━━━━━━━━━━━━━━━\u001b[0m\u001b[37m\u001b[0m \u001b[1m4s\u001b[0m 4s/step - accuracy: 0.5434 - loss: 0.6778 - val_accuracy: 0.5439 - val_loss: 0.6802\n",
      "Epoch 64/100\n",
      "\u001b[1m1/1\u001b[0m \u001b[32m━━━━━━━━━━━━━━━━━━━━\u001b[0m\u001b[37m\u001b[0m \u001b[1m4s\u001b[0m 4s/step - accuracy: 0.5434 - loss: 0.6775 - val_accuracy: 0.5396 - val_loss: 0.6801\n",
      "Epoch 65/100\n",
      "\u001b[1m1/1\u001b[0m \u001b[32m━━━━━━━━━━━━━━━━━━━━\u001b[0m\u001b[37m\u001b[0m \u001b[1m4s\u001b[0m 4s/step - accuracy: 0.5416 - loss: 0.6772 - val_accuracy: 0.5439 - val_loss: 0.6800\n",
      "Epoch 66/100\n",
      "\u001b[1m1/1\u001b[0m \u001b[32m━━━━━━━━━━━━━━━━━━━━\u001b[0m\u001b[37m\u001b[0m \u001b[1m4s\u001b[0m 4s/step - accuracy: 0.5367 - loss: 0.6768 - val_accuracy: 0.5460 - val_loss: 0.6804\n",
      "Epoch 67/100\n",
      "\u001b[1m1/1\u001b[0m \u001b[32m━━━━━━━━━━━━━━━━━━━━\u001b[0m\u001b[37m\u001b[0m \u001b[1m4s\u001b[0m 4s/step - accuracy: 0.5410 - loss: 0.6765 - val_accuracy: 0.5460 - val_loss: 0.6806\n",
      "Epoch 68/100\n",
      "\u001b[1m1/1\u001b[0m \u001b[32m━━━━━━━━━━━━━━━━━━━━\u001b[0m\u001b[37m\u001b[0m \u001b[1m4s\u001b[0m 4s/step - accuracy: 0.5416 - loss: 0.6761 - val_accuracy: 0.5289 - val_loss: 0.6807\n",
      "Epoch 69/100\n",
      "\u001b[1m1/1\u001b[0m \u001b[32m━━━━━━━━━━━━━━━━━━━━\u001b[0m\u001b[37m\u001b[0m \u001b[1m4s\u001b[0m 4s/step - accuracy: 0.5452 - loss: 0.6758 - val_accuracy: 0.5289 - val_loss: 0.6812\n",
      "Epoch 70/100\n",
      "\u001b[1m1/1\u001b[0m \u001b[32m━━━━━━━━━━━━━━━━━━━━\u001b[0m\u001b[37m\u001b[0m \u001b[1m4s\u001b[0m 4s/step - accuracy: 0.5471 - loss: 0.6755 - val_accuracy: 0.5268 - val_loss: 0.6816\n",
      "Epoch 71/100\n",
      "\u001b[1m1/1\u001b[0m \u001b[32m━━━━━━━━━━━━━━━━━━━━\u001b[0m\u001b[37m\u001b[0m \u001b[1m4s\u001b[0m 4s/step - accuracy: 0.5477 - loss: 0.6751 - val_accuracy: 0.5246 - val_loss: 0.6818\n",
      "Epoch 72/100\n",
      "\u001b[1m1/1\u001b[0m \u001b[32m━━━━━━━━━━━━━━━━━━━━\u001b[0m\u001b[37m\u001b[0m \u001b[1m4s\u001b[0m 4s/step - accuracy: 0.5501 - loss: 0.6747 - val_accuracy: 0.5332 - val_loss: 0.6814\n",
      "Epoch 73/100\n",
      "\u001b[1m1/1\u001b[0m \u001b[32m━━━━━━━━━━━━━━━━━━━━\u001b[0m\u001b[37m\u001b[0m \u001b[1m4s\u001b[0m 4s/step - accuracy: 0.5507 - loss: 0.6744 - val_accuracy: 0.5310 - val_loss: 0.6822\n",
      "Epoch 74/100\n",
      "\u001b[1m1/1\u001b[0m \u001b[32m━━━━━━━━━━━━━━━━━━━━\u001b[0m\u001b[37m\u001b[0m \u001b[1m4s\u001b[0m 4s/step - accuracy: 0.5507 - loss: 0.6741 - val_accuracy: 0.5246 - val_loss: 0.6824\n",
      "Epoch 75/100\n",
      "\u001b[1m1/1\u001b[0m \u001b[32m━━━━━━━━━━━━━━━━━━━━\u001b[0m\u001b[37m\u001b[0m \u001b[1m4s\u001b[0m 4s/step - accuracy: 0.5556 - loss: 0.6738 - val_accuracy: 0.5203 - val_loss: 0.6827\n",
      "Epoch 76/100\n",
      "\u001b[1m1/1\u001b[0m \u001b[32m━━━━━━━━━━━━━━━━━━━━\u001b[0m\u001b[37m\u001b[0m \u001b[1m4s\u001b[0m 4s/step - accuracy: 0.5550 - loss: 0.6734 - val_accuracy: 0.5203 - val_loss: 0.6830\n",
      "Epoch 77/100\n",
      "\u001b[1m1/1\u001b[0m \u001b[32m━━━━━━━━━━━━━━━━━━━━\u001b[0m\u001b[37m\u001b[0m \u001b[1m4s\u001b[0m 4s/step - accuracy: 0.5556 - loss: 0.6731 - val_accuracy: 0.5203 - val_loss: 0.6829\n",
      "Epoch 78/100\n",
      "\u001b[1m1/1\u001b[0m \u001b[32m━━━━━━━━━━━━━━━━━━━━\u001b[0m\u001b[37m\u001b[0m \u001b[1m5s\u001b[0m 5s/step - accuracy: 0.5550 - loss: 0.6728 - val_accuracy: 0.5246 - val_loss: 0.6830\n",
      "Epoch 79/100\n",
      "\u001b[1m1/1\u001b[0m \u001b[32m━━━━━━━━━━━━━━━━━━━━\u001b[0m\u001b[37m\u001b[0m \u001b[1m5s\u001b[0m 5s/step - accuracy: 0.5556 - loss: 0.6724 - val_accuracy: 0.5332 - val_loss: 0.6829\n",
      "Epoch 80/100\n",
      "\u001b[1m1/1\u001b[0m \u001b[32m━━━━━━━━━━━━━━━━━━━━\u001b[0m\u001b[37m\u001b[0m \u001b[1m4s\u001b[0m 4s/step - accuracy: 0.5513 - loss: 0.6721 - val_accuracy: 0.5332 - val_loss: 0.6837\n",
      "Epoch 81/100\n",
      "\u001b[1m1/1\u001b[0m \u001b[32m━━━━━━━━━━━━━━━━━━━━\u001b[0m\u001b[37m\u001b[0m \u001b[1m4s\u001b[0m 4s/step - accuracy: 0.5532 - loss: 0.6718 - val_accuracy: 0.5268 - val_loss: 0.6843\n",
      "Epoch 82/100\n",
      "\u001b[1m1/1\u001b[0m \u001b[32m━━━━━━━━━━━━━━━━━━━━\u001b[0m\u001b[37m\u001b[0m \u001b[1m5s\u001b[0m 5s/step - accuracy: 0.5507 - loss: 0.6714 - val_accuracy: 0.5310 - val_loss: 0.6848\n",
      "Epoch 83/100\n",
      "\u001b[1m1/1\u001b[0m \u001b[32m━━━━━━━━━━━━━━━━━━━━\u001b[0m\u001b[37m\u001b[0m \u001b[1m4s\u001b[0m 4s/step - accuracy: 0.5513 - loss: 0.6711 - val_accuracy: 0.5268 - val_loss: 0.6853\n",
      "Epoch 84/100\n",
      "\u001b[1m1/1\u001b[0m \u001b[32m━━━━━━━━━━━━━━━━━━━━\u001b[0m\u001b[37m\u001b[0m \u001b[1m4s\u001b[0m 4s/step - accuracy: 0.5568 - loss: 0.6707 - val_accuracy: 0.5246 - val_loss: 0.6857\n",
      "Epoch 85/100\n",
      "\u001b[1m1/1\u001b[0m \u001b[32m━━━━━━━━━━━━━━━━━━━━\u001b[0m\u001b[37m\u001b[0m \u001b[1m5s\u001b[0m 5s/step - accuracy: 0.5538 - loss: 0.6703 - val_accuracy: 0.5225 - val_loss: 0.6857\n",
      "Epoch 86/100\n",
      "\u001b[1m1/1\u001b[0m \u001b[32m━━━━━━━━━━━━━━━━━━━━\u001b[0m\u001b[37m\u001b[0m \u001b[1m4s\u001b[0m 4s/step - accuracy: 0.5556 - loss: 0.6700 - val_accuracy: 0.5203 - val_loss: 0.6859\n",
      "Epoch 87/100\n",
      "\u001b[1m1/1\u001b[0m \u001b[32m━━━━━━━━━━━━━━━━━━━━\u001b[0m\u001b[37m\u001b[0m \u001b[1m4s\u001b[0m 4s/step - accuracy: 0.5568 - loss: 0.6697 - val_accuracy: 0.5225 - val_loss: 0.6865\n",
      "Epoch 88/100\n",
      "\u001b[1m1/1\u001b[0m \u001b[32m━━━━━━━━━━━━━━━━━━━━\u001b[0m\u001b[37m\u001b[0m \u001b[1m4s\u001b[0m 4s/step - accuracy: 0.5575 - loss: 0.6693 - val_accuracy: 0.5225 - val_loss: 0.6870\n",
      "Epoch 89/100\n",
      "\u001b[1m1/1\u001b[0m \u001b[32m━━━━━━━━━━━━━━━━━━━━\u001b[0m\u001b[37m\u001b[0m \u001b[1m4s\u001b[0m 4s/step - accuracy: 0.5581 - loss: 0.6690 - val_accuracy: 0.5182 - val_loss: 0.6872\n",
      "Epoch 90/100\n",
      "\u001b[1m1/1\u001b[0m \u001b[32m━━━━━━━━━━━━━━━━━━━━\u001b[0m\u001b[37m\u001b[0m \u001b[1m4s\u001b[0m 4s/step - accuracy: 0.5593 - loss: 0.6686 - val_accuracy: 0.5139 - val_loss: 0.6876\n",
      "Epoch 91/100\n",
      "\u001b[1m1/1\u001b[0m \u001b[32m━━━━━━━━━━━━━━━━━━━━\u001b[0m\u001b[37m\u001b[0m \u001b[1m5s\u001b[0m 5s/step - accuracy: 0.5593 - loss: 0.6682 - val_accuracy: 0.5161 - val_loss: 0.6879\n",
      "Epoch 92/100\n",
      "\u001b[1m1/1\u001b[0m \u001b[32m━━━━━━━━━━━━━━━━━━━━\u001b[0m\u001b[37m\u001b[0m \u001b[1m4s\u001b[0m 4s/step - accuracy: 0.5581 - loss: 0.6679 - val_accuracy: 0.5161 - val_loss: 0.6885\n",
      "Epoch 93/100\n",
      "\u001b[1m1/1\u001b[0m \u001b[32m━━━━━━━━━━━━━━━━━━━━\u001b[0m\u001b[37m\u001b[0m \u001b[1m4s\u001b[0m 4s/step - accuracy: 0.5599 - loss: 0.6675 - val_accuracy: 0.5118 - val_loss: 0.6889\n",
      "Epoch 94/100\n",
      "\u001b[1m1/1\u001b[0m \u001b[32m━━━━━━━━━━━━━━━━━━━━\u001b[0m\u001b[37m\u001b[0m \u001b[1m5s\u001b[0m 5s/step - accuracy: 0.5611 - loss: 0.6671 - val_accuracy: 0.5139 - val_loss: 0.6894\n",
      "Epoch 95/100\n",
      "\u001b[1m1/1\u001b[0m \u001b[32m━━━━━━━━━━━━━━━━━━━━\u001b[0m\u001b[37m\u001b[0m \u001b[1m5s\u001b[0m 5s/step - accuracy: 0.5630 - loss: 0.6667 - val_accuracy: 0.5161 - val_loss: 0.6896\n",
      "Epoch 96/100\n",
      "\u001b[1m1/1\u001b[0m \u001b[32m━━━━━━━━━━━━━━━━━━━━\u001b[0m\u001b[37m\u001b[0m \u001b[1m5s\u001b[0m 5s/step - accuracy: 0.5611 - loss: 0.6664 - val_accuracy: 0.5161 - val_loss: 0.6900\n",
      "Epoch 97/100\n",
      "\u001b[1m1/1\u001b[0m \u001b[32m━━━━━━━━━━━━━━━━━━━━\u001b[0m\u001b[37m\u001b[0m \u001b[1m5s\u001b[0m 5s/step - accuracy: 0.5593 - loss: 0.6659 - val_accuracy: 0.5118 - val_loss: 0.6898\n",
      "Epoch 98/100\n",
      "\u001b[1m1/1\u001b[0m \u001b[32m━━━━━━━━━━━━━━━━━━━━\u001b[0m\u001b[37m\u001b[0m \u001b[1m4s\u001b[0m 4s/step - accuracy: 0.5587 - loss: 0.6655 - val_accuracy: 0.5096 - val_loss: 0.6896\n",
      "Epoch 99/100\n",
      "\u001b[1m1/1\u001b[0m \u001b[32m━━━━━━━━━━━━━━━━━━━━\u001b[0m\u001b[37m\u001b[0m \u001b[1m4s\u001b[0m 4s/step - accuracy: 0.5587 - loss: 0.6651 - val_accuracy: 0.5075 - val_loss: 0.6899\n",
      "Epoch 100/100\n",
      "\u001b[1m1/1\u001b[0m \u001b[32m━━━━━━━━━━━━━━━━━━━━\u001b[0m\u001b[37m\u001b[0m \u001b[1m5s\u001b[0m 5s/step - accuracy: 0.5599 - loss: 0.6647 - val_accuracy: 0.5054 - val_loss: 0.6899\n"
     ]
    }
   ],
   "source": [
    "from tensorflow.keras.callbacks import EarlyStopping, ModelCheckpoint\n",
    "from tensorflow.python.keras.utils import np_utils\n",
    "\n",
    "model.compile(loss = \"categorical_crossentropy\", optimizer=\"adam\", metrics=[\"accuracy\"])\n",
    "\n",
    "model_checkpoint = ModelCheckpoint(filepath=\"best_model_LSTM.keras\", monitor=\"val_loss\", save_best_only=True)\n",
    "\n",
    "early_stopping = EarlyStopping(monitor=\"val_loss\", patience=100, restore_best_weights=True)\n",
    "callbacks = [model_checkpoint, early_stopping]\n",
    "\n",
    "train_history = model.fit(\n",
    "    x_train,\n",
    "    np_utils.to_categorical(y_train),\n",
    "    validation_data = (x_val, np_utils.to_categorical(y_val)),\n",
    "    batch_size = 2048,\n",
    "    epochs = 100,\n",
    "    callbacks=[callbacks])"
   ]
  },
  {
   "cell_type": "code",
   "execution_count": 53,
   "metadata": {},
   "outputs": [
    {
     "name": "stdout",
     "output_type": "stream",
     "text": [
      "['Solarize_Light2', '_classic_test_patch', '_mpl-gallery', '_mpl-gallery-nogrid', 'bmh', 'classic', 'dark_background', 'fast', 'fivethirtyeight', 'ggplot', 'grayscale', 'seaborn-v0_8', 'seaborn-v0_8-bright', 'seaborn-v0_8-colorblind', 'seaborn-v0_8-dark', 'seaborn-v0_8-dark-palette', 'seaborn-v0_8-darkgrid', 'seaborn-v0_8-deep', 'seaborn-v0_8-muted', 'seaborn-v0_8-notebook', 'seaborn-v0_8-paper', 'seaborn-v0_8-pastel', 'seaborn-v0_8-poster', 'seaborn-v0_8-talk', 'seaborn-v0_8-ticks', 'seaborn-v0_8-white', 'seaborn-v0_8-whitegrid', 'tableau-colorblind10']\n"
     ]
    }
   ],
   "source": [
    "import matplotlib.pyplot as plt\n",
    "from matplotlib import style\n",
    "print(plt.style.available)"
   ]
  },
  {
   "cell_type": "code",
   "execution_count": 54,
   "metadata": {},
   "outputs": [
    {
     "data": {
      "image/png": "[encoded data removed]",
      "text/plain": [
       "<Figure size 1600x1200 with 2 Axes>"
      ]
     },
     "metadata": {},
     "output_type": "display_data"
    }
   ],
   "source": [
    "import matplotlib.pyplot as plt\n",
    "import os\n",
    "\n",
    "if not os.path.exists('images'):\n",
    "    os.makedirs('images')\n",
    "\n",
    "plt.style.use('seaborn-v0_8-bright')\n",
    "fit, axes = plt.subplots(2, 1, figsize = (16, 12))\n",
    "\n",
    "axes[0].set_title(\"LOSS\")\n",
    "axes[0].set_yscale(\"log\")\n",
    "axes[0].plot(train_history.history[\"loss\"], label = \"Training\")\n",
    "axes[0].plot(train_history.history[\"val_loss\"], label = \"Validation\")\n",
    "axes[0].legend()\n",
    "\n",
    "\n",
    "axes[1].set_title(\"Accuracy\")\n",
    "axes[1].plot(train_history.history[\"accuracy\"], label = \"Training\")\n",
    "axes[1].plot(train_history.history[\"val_accuracy\"], label = \"Validation\")\n",
    "axes[1].set_xlabel(\"Epoch\")\n",
    "axes[1].legend()\n",
    "\n",
    "# save plot\n",
    "plt.figure(1)\n",
    "plt.savefig('images/training_history.png')"
   ]
  },
  {
   "cell_type": "markdown",
   "metadata": {},
   "source": [
    "# Evaluate model"
   ]
  },
  {
   "cell_type": "code",
   "execution_count": 55,
   "metadata": {},
   "outputs": [
    {
     "name": "stdout",
     "output_type": "stream",
     "text": [
      "\u001b[1m7/7\u001b[0m \u001b[32m━━━━━━━━━━━━━━━━━━━━\u001b[0m\u001b[37m\u001b[0m \u001b[1m0s\u001b[0m 53ms/step - accuracy: 0.2423 - loss: 0.7138 \n"
     ]
    },
    {
     "data": {
      "text/plain": [
       "[0.6920204758644104, 0.5]"
      ]
     },
     "execution_count": 55,
     "metadata": {},
     "output_type": "execute_result"
    }
   ],
   "source": [
    "from keras.utils import to_categorical\n",
    "model.evaluate(x_test, to_categorical(y_test))"
   ]
  },
  {
   "cell_type": "code",
   "execution_count": 56,
   "metadata": {},
   "outputs": [
    {
     "name": "stdout",
     "output_type": "stream",
     "text": [
      "\u001b[1m7/7\u001b[0m \u001b[32m━━━━━━━━━━━━━━━━━━━━\u001b[0m\u001b[37m\u001b[0m \u001b[1m1s\u001b[0m 118ms/step\n"
     ]
    }
   ],
   "source": [
    "from tensorflow.math import argmax, confusion_matrix\n",
    "\n",
    "y_pred_prob = model.predict(x_test)\n",
    "y_pred = argmax(y_pred_prob, axis = -1)\n",
    "cm = confusion_matrix(y_test, y_pred, num_classes = len(CLASSES)).numpy()"
   ]
  },
  {
   "cell_type": "markdown",
   "metadata": {},
   "source": [
    "# Confusion matrix"
   ]
  },
  {
   "cell_type": "code",
   "execution_count": 57,
   "metadata": {},
   "outputs": [
    {
     "name": "stdout",
     "output_type": "stream",
     "text": [
      "\u001b[1m7/7\u001b[0m \u001b[32m━━━━━━━━━━━━━━━━━━━━\u001b[0m\u001b[37m\u001b[0m \u001b[1m0s\u001b[0m 60ms/step\n"
     ]
    },
    {
     "data": {
      "text/plain": [
       "array([[  0, 107],\n",
       "       [  0, 107]])"
      ]
     },
     "execution_count": 57,
     "metadata": {},
     "output_type": "execute_result"
    }
   ],
   "source": [
    "from tensorflow.math import argmax, confusion_matrix\n",
    "\n",
    "y_pred_prob = model.predict(x_test)\n",
    "y_pred = argmax(y_pred_prob, axis=-1)\n",
    "cm = confusion_matrix(y_test, y_pred, num_classes=len(CLASSES)).numpy()\n",
    "\n",
    "cm"
   ]
  },
  {
   "cell_type": "code",
   "execution_count": 58,
   "metadata": {},
   "outputs": [
    {
     "data": {
      "text/plain": [
       "Text(33.22222222222222, 0.5, 'Label')"
      ]
     },
     "execution_count": 58,
     "metadata": {},
     "output_type": "execute_result"
    },
    {
     "data": {
      "image/png": "[encoded data removed]",
      "text/plain": [
       "<Figure size 500x400 with 2 Axes>"
      ]
     },
     "metadata": {},
     "output_type": "display_data"
    }
   ],
   "source": [
    "import matplotlib.pyplot as plt\n",
    "import seaborn as sns\n",
    "\n",
    "plt.figure(figsize=(5, 4))\n",
    "sns.heatmap(cm, xticklabels= CLASSES, yticklabels=CLASSES, annot=True, fmt = 'g', cmap='viridis')\n",
    "\n",
    "plt.xlabel(\"Prediction\")\n",
    "plt.ylabel(\"Label\")"
   ]
  },
  {
   "cell_type": "code",
   "execution_count": 59,
   "metadata": {},
   "outputs": [
    {
     "data": {
      "text/html": [
       "<div>\n",
       "<style scoped>\n",
       "    .dataframe tbody tr th:only-of-type {\n",
       "        vertical-align: middle;\n",
       "    }\n",
       "\n",
       "    .dataframe tbody tr th {\n",
       "        vertical-align: top;\n",
       "    }\n",
       "\n",
       "    .dataframe thead th {\n",
       "        text-align: right;\n",
       "    }\n",
       "</style>\n",
       "<table border=\"1\" class=\"dataframe\">\n",
       "  <thead>\n",
       "    <tr style=\"text-align: right;\">\n",
       "      <th></th>\n",
       "      <th>Prediction</th>\n",
       "      <th>Accuracy</th>\n",
       "    </tr>\n",
       "  </thead>\n",
       "  <tbody>\n",
       "    <tr>\n",
       "      <th>0</th>\n",
       "      <td>Bull</td>\n",
       "      <td>0.0</td>\n",
       "    </tr>\n",
       "    <tr>\n",
       "      <th>1</th>\n",
       "      <td>Bear</td>\n",
       "      <td>0.5</td>\n",
       "    </tr>\n",
       "    <tr>\n",
       "      <th>2</th>\n",
       "      <td>Total</td>\n",
       "      <td>0.5</td>\n",
       "    </tr>\n",
       "  </tbody>\n",
       "</table>\n",
       "</div>"
      ],
      "text/plain": [
       "  Prediction  Accuracy\n",
       "0       Bull       0.0\n",
       "1       Bear       0.5\n",
       "2      Total       0.5"
      ]
     },
     "execution_count": 59,
     "metadata": {},
     "output_type": "execute_result"
    }
   ],
   "source": [
    "n_bull_pred = cm[LABEL_BULL, LABEL_BULL] + cm[LABEL_BEAR, LABEL_BULL]\n",
    "n_bull_true_pos = cm[LABEL_BULL, LABEL_BULL]\n",
    "bull_accuracy = n_bull_true_pos / n_bull_pred if n_bull_pred > 0 else 0\n",
    "\n",
    "n_bear_pred = cm[LABEL_BULL, LABEL_BEAR] + cm[LABEL_BEAR, LABEL_BEAR]\n",
    "n_bear_true_pos = cm[LABEL_BEAR, LABEL_BEAR]\n",
    "bear_accuracy = n_bear_true_pos / n_bear_pred if n_bear_pred > 0 else 0\n",
    "\n",
    "n_total_pred = n_bull_pred + n_bear_pred\n",
    "n_total_true_pos = n_bull_true_pos + n_bear_true_pos\n",
    "total_accuracy = n_total_true_pos / n_total_pred if n_total_pred > 0 else 0\n",
    "\n",
    "pd.DataFrame([{\"Prediction\": \"Bull\", \"Accuracy\": bull_accuracy},\n",
    "              {\"Prediction\": \"Bear\", \"Accuracy\": bear_accuracy},\n",
    "              {\"Prediction\": \"Total\", \"Accuracy\": total_accuracy}\n",
    "              ])"
   ]
  }
 ],
 "metadata": {
  "kernelspec": {
   "display_name": "base",
   "language": "python",
   "name": "python3"
  },
  "language_info": {
   "codemirror_mode": {
    "name": "ipython",
    "version": 3
   },
   "file_extension": ".py",
   "mimetype": "text/x-python",
   "name": "python",
   "nbconvert_exporter": "python",
   "pygments_lexer": "ipython3",
   "version": "3.11.7"
  }
 },
 "nbformat": 4,
 "nbformat_minor": 2
}
